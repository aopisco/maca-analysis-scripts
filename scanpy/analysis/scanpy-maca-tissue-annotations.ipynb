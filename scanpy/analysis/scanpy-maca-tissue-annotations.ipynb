{
 "cells": [
  {
   "cell_type": "code",
   "execution_count": null,
   "metadata": {},
   "outputs": [],
   "source": [
    "import numpy as np\n",
    "import pandas as pd\n",
    "import matplotlib.pyplot as plt\n",
    "import csv\n",
    "import scanpy.api as sc\n",
    "from igraph import *\n",
    "from MulticoreTSNE import MulticoreTSNE as TSNE #faster TSNE alternative\n",
    "from anndata import read_h5ad\n",
    "sc.logging.print_versions()\n",
    "#results_file = './write/p16.h5ad'\n"
   ]
  },
  {
   "cell_type": "markdown",
   "metadata": {},
   "source": [
    "# Load data"
   ]
  },
  {
   "cell_type": "code",
   "execution_count": null,
   "metadata": {},
   "outputs": [],
   "source": [
    "# adata_raw = read_h5ad('./write/maca.h5ad')\n"
   ]
  },
  {
   "cell_type": "code",
   "execution_count": null,
   "metadata": {},
   "outputs": [],
   "source": [
    "adata = read_h5ad('./write/maca-droplet.processed.h5ad')"
   ]
  },
  {
   "cell_type": "code",
   "execution_count": null,
   "metadata": {},
   "outputs": [],
   "source": [
    "# Preprocessing"
   ]
  },
  {
   "cell_type": "code",
   "execution_count": null,
   "metadata": {},
   "outputs": [],
   "source": [
    "# sc.pp.filter_genes(adata, min_cells=5)\n",
    "# sc.pp.filter_cells(adata, min_genes=250)"
   ]
  },
  {
   "cell_type": "code",
   "execution_count": null,
   "metadata": {},
   "outputs": [],
   "source": [
    "adata"
   ]
  },
  {
   "cell_type": "code",
   "execution_count": null,
   "metadata": {},
   "outputs": [],
   "source": [
    "# # add the total counts per cell as observations-annotation to adata\n",
    "# adata.obs['n_counts'] = np.sum(adata.X, axis=1).A1"
   ]
  },
  {
   "cell_type": "code",
   "execution_count": null,
   "metadata": {},
   "outputs": [],
   "source": [
    "# adata"
   ]
  },
  {
   "cell_type": "code",
   "execution_count": null,
   "metadata": {},
   "outputs": [],
   "source": [
    "# axs = sc.pl.violin(adata, ['n_genes', 'n_counts'],\n",
    "#                    jitter=0.4, multi_panel=True)"
   ]
  },
  {
   "cell_type": "code",
   "execution_count": null,
   "metadata": {},
   "outputs": [],
   "source": [
    "# ax = sc.pl.scatter(adata, x='n_counts', y='n_genes')"
   ]
  },
  {
   "cell_type": "code",
   "execution_count": null,
   "metadata": {},
   "outputs": [],
   "source": [
    "# adata.raw = sc.pp.log1p(adata, copy=True) # freezes the state of the AnnData object returned by sc.pp.log1p\n",
    "# sc.pp.normalize_per_cell(adata, counts_per_cell_after=1e4) #simple lib size normalization?"
   ]
  },
  {
   "cell_type": "code",
   "execution_count": null,
   "metadata": {},
   "outputs": [],
   "source": [
    "# filter_result = sc.pp.filter_genes_dispersion(\n",
    "#     adata.X, min_mean=0.0125, max_mean=10, min_disp=0.5)\n",
    "# sc.pl.filter_genes_dispersion(filter_result)"
   ]
  },
  {
   "cell_type": "code",
   "execution_count": null,
   "metadata": {},
   "outputs": [],
   "source": [
    "# adata = adata[:, filter_result.gene_subset]"
   ]
  },
  {
   "cell_type": "code",
   "execution_count": null,
   "metadata": {},
   "outputs": [],
   "source": [
    "# sc.pp.log1p(adata)"
   ]
  },
  {
   "cell_type": "code",
   "execution_count": null,
   "metadata": {},
   "outputs": [],
   "source": [
    "# sc.pp.scale(adata, max_value=10)"
   ]
  },
  {
   "cell_type": "code",
   "execution_count": null,
   "metadata": {},
   "outputs": [],
   "source": [
    "#adata.write(results_file)"
   ]
  },
  {
   "cell_type": "markdown",
   "metadata": {},
   "source": [
    "# Exploration\n"
   ]
  },
  {
   "cell_type": "markdown",
   "metadata": {},
   "source": [
    "## Choose a tissue"
   ]
  },
  {
   "cell_type": "code",
   "execution_count": null,
   "metadata": {},
   "outputs": [],
   "source": [
    "tissues_available = list(set(adata.obs['tissue']))\n",
    "tissues_available.sort()\n",
    "pd.DataFrame(tissues_available,columns=['Tissues'])"
   ]
  },
  {
   "cell_type": "code",
   "execution_count": null,
   "metadata": {},
   "outputs": [],
   "source": [
    "tissofinterest = tissues_available[6]\n",
    "tiss = adata[adata.obs['tissue'] == tissofinterest,:]\n",
    "set(tiss.obs['age'])\n"
   ]
  },
  {
   "cell_type": "code",
   "execution_count": null,
   "metadata": {},
   "outputs": [],
   "source": [
    "# tiss2 = tiss.obs[tiss.obs['Age'] == '3m']\n",
    "# tiss3 = tiss.obs[tiss.obs['Age'] == '24m']\n",
    "# tiss4 = tiss.obs[tiss.obs['Age'] == '18m']\n",
    "# tiss5 = tiss.obs[tiss.obs['Age'] == '21m']"
   ]
  },
  {
   "cell_type": "code",
   "execution_count": null,
   "metadata": {},
   "outputs": [],
   "source": [
    "tiss"
   ]
  },
  {
   "cell_type": "code",
   "execution_count": null,
   "metadata": {},
   "outputs": [],
   "source": [
    "# tissaux = tiss2.append(tiss3)\n",
    "# tissaux = tissaux.append(tiss4)\n",
    "# tissaux = tissaux.append(tiss5)\n",
    "# tiss = adata[adata.obs.index.isin(tissaux.index),:]"
   ]
  },
  {
   "cell_type": "code",
   "execution_count": null,
   "metadata": {},
   "outputs": [],
   "source": [
    "# tiss"
   ]
  },
  {
   "cell_type": "code",
   "execution_count": null,
   "metadata": {},
   "outputs": [],
   "source": [
    "tiss.raw = tiss"
   ]
  },
  {
   "cell_type": "markdown",
   "metadata": {},
   "source": [
    "## PCA"
   ]
  },
  {
   "cell_type": "code",
   "execution_count": null,
   "metadata": {},
   "outputs": [],
   "source": [
    "sc.tl.pca(tiss)"
   ]
  },
  {
   "cell_type": "code",
   "execution_count": null,
   "metadata": {},
   "outputs": [],
   "source": [
    "tiss"
   ]
  },
  {
   "cell_type": "code",
   "execution_count": null,
   "metadata": {},
   "outputs": [],
   "source": [
    "ax = sc.pl.pca_scatter(tiss, color=['tissue'], right_margin=0.5)"
   ]
  },
  {
   "cell_type": "code",
   "execution_count": null,
   "metadata": {},
   "outputs": [],
   "source": [
    "ax = sc.pl.pca_scatter(tiss, color=['age'], right_margin=0.5)"
   ]
  },
  {
   "cell_type": "code",
   "execution_count": null,
   "metadata": {},
   "outputs": [],
   "source": [
    "ax = sc.pl.pca_scatter(tiss, color=['sex'], right_margin=0.5)"
   ]
  },
  {
   "cell_type": "code",
   "execution_count": null,
   "metadata": {},
   "outputs": [],
   "source": [
    "ax = sc.pl.pca_scatter(tiss, color='n_counts', right_margin=0.5)"
   ]
  },
  {
   "cell_type": "code",
   "execution_count": null,
   "metadata": {},
   "outputs": [],
   "source": [
    "sc.pl.pca_variance_ratio(tiss, log=True)"
   ]
  },
  {
   "cell_type": "markdown",
   "metadata": {},
   "source": [
    "## Louvain clustering"
   ]
  },
  {
   "cell_type": "code",
   "execution_count": null,
   "metadata": {},
   "outputs": [],
   "source": [
    "sc.pp.neighbors(tiss, n_neighbors=15)#, method='gauss')\n",
    "sc.tl.louvain(tiss, resolution = 0.2)"
   ]
  },
  {
   "cell_type": "code",
   "execution_count": null,
   "metadata": {},
   "outputs": [],
   "source": [
    "tiss"
   ]
  },
  {
   "cell_type": "markdown",
   "metadata": {},
   "source": [
    "## UMAP"
   ]
  },
  {
   "cell_type": "code",
   "execution_count": null,
   "metadata": {},
   "outputs": [],
   "source": [
    "sc.tl.umap(tiss)"
   ]
  },
  {
   "cell_type": "code",
   "execution_count": null,
   "metadata": {},
   "outputs": [],
   "source": [
    "sc.settings.set_figure_params(dpi=200)\n",
    "sc.pl.umap(tiss, color=['tissue'], right_margin=0.5, save = '_'+ str(tissofinterest) +'_all-ages_droplet_tissue.pdf')"
   ]
  },
  {
   "cell_type": "code",
   "execution_count": null,
   "metadata": {},
   "outputs": [],
   "source": [
    "sc.settings.set_figure_params(dpi=200)\n",
    "sc.pl.umap(tiss, color=['louvain'], right_margin=0.5, save = '_'+ str(tissofinterest) +'_all-ages_droplet_louvain.pdf')"
   ]
  },
  {
   "cell_type": "code",
   "execution_count": null,
   "metadata": {},
   "outputs": [],
   "source": [
    "sc.settings.set_figure_params(dpi=200)\n",
    "sc.pl.umap(tiss, color=['age'], right_margin=0.5, save = '_'+ str(tissofinterest) +'_all-ages_droplet_age.pdf')"
   ]
  },
  {
   "cell_type": "markdown",
   "metadata": {},
   "source": [
    "## tSNE"
   ]
  },
  {
   "cell_type": "code",
   "execution_count": null,
   "metadata": {},
   "outputs": [],
   "source": [
    "sc.tl.tsne(tiss, perplexity=50)"
   ]
  },
  {
   "cell_type": "code",
   "execution_count": null,
   "metadata": {},
   "outputs": [],
   "source": [
    "sc.settings.set_figure_params(dpi=200)\n",
    "sc.pl.tsne(tiss, color=['tissue'], right_margin=0.5, save = '_'+ str(tissofinterest) +'_all-ages_droplet_tissue.pdf')"
   ]
  },
  {
   "cell_type": "code",
   "execution_count": null,
   "metadata": {},
   "outputs": [],
   "source": [
    "sc.pl.tsne(tiss, color=['sex'], right_margin=0.5, save = '_'+ str(tissofinterest) +'_all-ages_droplet_sex.pdf')"
   ]
  },
  {
   "cell_type": "code",
   "execution_count": null,
   "metadata": {},
   "outputs": [],
   "source": [
    "sc.pl.tsne(tiss, color=['age'], right_margin=0.5, save = '_'+ str(tissofinterest) +'_all-ages_droplet_age.pdf')"
   ]
  },
  {
   "cell_type": "code",
   "execution_count": null,
   "metadata": {},
   "outputs": [],
   "source": [
    "sc.pl.tsne(tiss, color=['louvain'],right_margin=0.5, save = '_'+ str(tissofinterest) +'_all-ages_droplet_louvain.pdf')"
   ]
  },
  {
   "cell_type": "markdown",
   "metadata": {},
   "source": [
    "## read the annotations from tabula muris"
   ]
  },
  {
   "cell_type": "code",
   "execution_count": null,
   "metadata": {},
   "outputs": [],
   "source": [
    "maca10x3metadata2 = pd.read_csv('/data/maca/data/10x/TM_droplet_metadata.csv', low_memory=False)\n",
    "#maca10x3metadata2 = maca10x3metadata2.rename(columns = {'cell':'Cell'})\n",
    "len(maca10x3metadata2)"
   ]
  },
  {
   "cell_type": "code",
   "execution_count": null,
   "metadata": {},
   "outputs": [],
   "source": [
    "ageofinterest = \"3m\"\n",
    "tissage = tiss[tiss.obs['age'] == ageofinterest,:]\n",
    "tissage"
   ]
  },
  {
   "cell_type": "code",
   "execution_count": null,
   "metadata": {},
   "outputs": [],
   "source": [
    "# methodofinterest = \"droplet\"\n",
    "# tissage = tiss[tiss.obs['method'] == methodofinterest,:]\n",
    "# tissage"
   ]
  },
  {
   "cell_type": "code",
   "execution_count": null,
   "metadata": {},
   "outputs": [],
   "source": [
    "tissage.obs.head()"
   ]
  },
  {
   "cell_type": "code",
   "execution_count": null,
   "metadata": {},
   "outputs": [],
   "source": [
    "maca10x3metadata2.head()"
   ]
  },
  {
   "cell_type": "code",
   "execution_count": null,
   "metadata": {
    "scrolled": false
   },
   "outputs": [],
   "source": [
    "merged_left = pd.merge(left=tissage.obs,right=maca10x3metadata2, left_on='cell', right_on='cell',how = 'left')\n",
    "\n",
    "merged_left.head()\n",
    "\n",
    "#create a list of column headings\n",
    "cols = list(merged_left.columns)\n"
   ]
  },
  {
   "cell_type": "code",
   "execution_count": null,
   "metadata": {},
   "outputs": [],
   "source": [
    "# merged_inner = pd.merge(left=tissage.obs,right=maca10x3metadata2, left_on='cell', right_on='cell')\n",
    "# #merged_inner = merged_inner[['Age','Cell','Channel','Sex','Tissue','batch','n_genes','n_counts','cell_ontology_class','free_annotation']]\n",
    "# merged_inner.head()"
   ]
  },
  {
   "cell_type": "code",
   "execution_count": null,
   "metadata": {},
   "outputs": [],
   "source": [
    "tissage.obs[\"cell_ontology_class\"] = merged_left[\"cell_ontology_class_y\"]\n",
    "tissage.obs[\"cell_ontology_id\"] = merged_left[\"cell_ontology_id\"]\n",
    "tissage.obs[\"free_annotation\"] = merged_left[\"free_annotation\"]\n",
    "display(set(tissage.obs['cell_ontology_class']))\n",
    "\n",
    "tissage.obs = tissage.obs.reset_index()\n",
    "tissage.obs[\"cell_ontology_class\"] = merged_left[\"cell_ontology_class_y\"]\n",
    "tissage.obs[\"cell_ontology_id\"] = merged_left[\"cell_ontology_id\"]\n",
    "tissage.obs[\"free_annotation\"] = merged_left[\"free_annotation\"]\n",
    "set(tissage.obs['cell_ontology_class'])\n"
   ]
  },
  {
   "cell_type": "code",
   "execution_count": null,
   "metadata": {},
   "outputs": [],
   "source": [
    "# tissage.obs = tissage.obs.reset_index()"
   ]
  },
  {
   "cell_type": "code",
   "execution_count": null,
   "metadata": {},
   "outputs": [],
   "source": [
    "# tissage.obs[\"cell_ontology_class\"] = merged_inner[\"cell_ontology_class\"]\n",
    "# tissage.obs[\"free_annotation\"] = merged_inner[\"free_annotation\"]\n",
    "# tissage.obs"
   ]
  },
  {
   "cell_type": "code",
   "execution_count": null,
   "metadata": {},
   "outputs": [],
   "source": [
    "# tissage.obs.head()"
   ]
  },
  {
   "cell_type": "code",
   "execution_count": null,
   "metadata": {},
   "outputs": [],
   "source": [
    "#sc.tl.pca(tissage)\n",
    "#sc.pp.neighbors(tissage, n_neighbors=15)#, method='gauss')\n",
    "#sc.tl.louvain(tissage, resolution = 0.3)\n",
    "#sc.tl.tsne(tissage, perplexity=50)"
   ]
  },
  {
   "cell_type": "code",
   "execution_count": null,
   "metadata": {},
   "outputs": [],
   "source": [
    "sc.pl.umap(tissage, color=['louvain'],right_margin=0.5)"
   ]
  },
  {
   "cell_type": "code",
   "execution_count": null,
   "metadata": {},
   "outputs": [],
   "source": [
    "sc.pl.umap(tissage, color=['cell_ontology_class'],right_margin=0.5)"
   ]
  },
  {
   "cell_type": "code",
   "execution_count": null,
   "metadata": {},
   "outputs": [],
   "source": [
    "sc.pl.umap(tissage, color=['free_annotation'],right_margin=0.5)"
   ]
  },
  {
   "cell_type": "code",
   "execution_count": null,
   "metadata": {},
   "outputs": [],
   "source": [
    "df = tissage.obs[tissage.obs['louvain'].str.match('2')]['cell_ontology_class']\n",
    "df.reset_index()\n",
    "df = df.reset_index()\n",
    "display(df.groupby('cell_ontology_class').count())\n",
    "display(df.groupby('cell_ontology_class').count().sum())\n",
    "display(df.groupby('cell_ontology_class').count()/df.groupby('cell_ontology_class').count().sum())\n",
    "dfaux = df.groupby('cell_ontology_class').count()/df.groupby('cell_ontology_class').count().sum()\n",
    "dfaux.reset_index()\n",
    "dfaux = dfaux.reset_index()\n",
    "display(dfaux[dfaux['index']>0.95][['cell_ontology_class']])\n",
    "#dfdf.sum()\n",
    "#df.drop_duplicates()\n",
    "#tissage.obs['louvain']\n",
    "#val = dfaux[dfaux['index']>0.95][['cell_ontology_class']].values[0]\n",
    "#print(val)"
   ]
  },
  {
   "cell_type": "code",
   "execution_count": null,
   "metadata": {},
   "outputs": [],
   "source": [
    "tiss_cell_ontology_class = {}\n",
    "for i in range(0,tissage.obs['louvain'].nunique()):\n",
    "    df = tissage.obs[tissage.obs['louvain'].str.match(str(i))]['cell_ontology_class']\n",
    "    df.reset_index()\n",
    "    df = df.reset_index()\n",
    "    #df.groupby('cell_ontology_class').count()\n",
    "    #df.groupby('cell_ontology_class').count().sum()\n",
    "    #df.groupby('cell_ontology_class').count()/df.groupby('cell_ontology_class').count().sum()\n",
    "    dfaux = df.groupby('cell_ontology_class').count()/df.groupby('cell_ontology_class').count().sum()\n",
    "    dfaux.reset_index()\n",
    "    dfaux = dfaux.reset_index()\n",
    "    #display(dfaux[dfaux['index']>0.95][['cell_ontology_class']])\n",
    "    #dfdfaux = pd.concat([dfdfaux,dfaux[dfaux['index']>0.95][['cell_ontology_class']]])\n",
    "    a = dfaux[dfaux['index']>0.95][['cell_ontology_class']]\n",
    "    if a.empty:\n",
    "        tiss_cell_ontology_class[i] = 'nan'\n",
    "    else:\n",
    "        tiss_cell_ontology_class[i] = a.values[0]\n",
    "\n",
    "tiss_cell_ontology_class\n",
    "\n"
   ]
  },
  {
   "cell_type": "code",
   "execution_count": null,
   "metadata": {},
   "outputs": [],
   "source": [
    "tiss_free_annotation = {}\n",
    "for i in range(0,tissage.obs['louvain'].nunique()):\n",
    "    df = tissage.obs[tissage.obs['louvain'].str.match(str(i))]['free_annotation']\n",
    "    df.reset_index()\n",
    "    df = df.reset_index()\n",
    "    #df.groupby('cell_ontology_class').count()\n",
    "    #df.groupby('cell_ontology_class').count().sum()\n",
    "    #df.groupby('cell_ontology_class').count()/df.groupby('cell_ontology_class').count().sum()\n",
    "    dfaux = df.groupby('free_annotation').count()/df.groupby('free_annotation').count().sum()\n",
    "    dfaux.reset_index()\n",
    "    dfaux = dfaux.reset_index()\n",
    "    #display(dfaux[dfaux['index']>0.95][['cell_ontology_class']])\n",
    "    #dfdfaux = pd.concat([dfdfaux,dfaux[dfaux['index']>0.95][['cell_ontology_class']]])\n",
    "    a = dfaux[dfaux['index']>0.95][['free_annotation']]\n",
    "    if a.empty:\n",
    "        tiss_free_annotation[i] = 'nan'\n",
    "    else:\n",
    "        tiss_free_annotation[i] = a.values[0]\n",
    "\n",
    "tiss_free_annotation\n"
   ]
  },
  {
   "cell_type": "code",
   "execution_count": null,
   "metadata": {
    "scrolled": false
   },
   "outputs": [],
   "source": [
    "tiss.obs['louvain'] = tiss.obs['louvain'].apply(pd.to_numeric)\n",
    "tiss.obs['cell_ontology_class'] = tiss.obs['louvain'].map(tiss_cell_ontology_class)\n",
    "tiss.obs.head()"
   ]
  },
  {
   "cell_type": "code",
   "execution_count": null,
   "metadata": {
    "scrolled": false
   },
   "outputs": [],
   "source": [
    "tiss.obs['free_annotation'] = tiss.obs['louvain'].map(tiss_free_annotation)\n",
    "tiss.obs.head()"
   ]
  },
  {
   "cell_type": "code",
   "execution_count": null,
   "metadata": {},
   "outputs": [],
   "source": [
    "sc.pl.tsne(tiss, color=['louvain'],right_margin=0.5)"
   ]
  },
  {
   "cell_type": "code",
   "execution_count": null,
   "metadata": {},
   "outputs": [],
   "source": [
    "sc.pl.tsne(tiss, color=['cell_ontology_class'],right_margin=0.5)"
   ]
  },
  {
   "cell_type": "code",
   "execution_count": null,
   "metadata": {},
   "outputs": [],
   "source": [
    "sc.pl.tsne(tiss, color=['age'],right_margin=0.5)"
   ]
  },
  {
   "cell_type": "code",
   "execution_count": null,
   "metadata": {},
   "outputs": [],
   "source": [
    "sc.pl.umap(tiss, color=['cell_ontology_class'],right_margin=0.5)"
   ]
  },
  {
   "cell_type": "code",
   "execution_count": null,
   "metadata": {},
   "outputs": [],
   "source": [
    "sc.pl.umap(tiss, color=['free_annotation'],right_margin=0.5)"
   ]
  },
  {
   "cell_type": "code",
   "execution_count": null,
   "metadata": {},
   "outputs": [],
   "source": [
    "sc.pl.umap(tiss, color=['age'],right_margin=0.5)"
   ]
  },
  {
   "cell_type": "code",
   "execution_count": null,
   "metadata": {},
   "outputs": [],
   "source": [
    "def _build_subplots(n):\n",
    "    '''\n",
    "    Build subplots grid\n",
    "    n: number of subplots\n",
    "    '''\n",
    "    nrow = int(np.sqrt(n))\n",
    "    ncol = int(np.ceil(n / nrow))\n",
    "    fig, axs = plt.subplots(nrow, ncol, dpi=100, figsize=(ncol*5, nrow*5))\n",
    "    fig.subplots_adjust(hspace=.9)\n",
    "\n",
    "    return fig, axs, nrow, ncol"
   ]
  },
  {
   "cell_type": "code",
   "execution_count": null,
   "metadata": {
    "scrolled": false
   },
   "outputs": [],
   "source": [
    "ages = ['3m','18m','21m','24m']#\n",
    "\n",
    "fig, axs, nrow, ncol = _build_subplots(len(ages))\n",
    "\n",
    "axs = axs.ravel()\n",
    "\n",
    "for i in range(nrow*ncol):\n",
    "    age = ages[i]\n",
    "    axs[i].set_title(ages[i])\n",
    "    sc.pl.scatter(tiss[:,'Cdkn2a'],ax=axs[i],show=False)\n"
   ]
  },
  {
   "cell_type": "code",
   "execution_count": null,
   "metadata": {
    "scrolled": false
   },
   "outputs": [],
   "source": [
    "ax = sc.pl.umap(tiss[tiss.var_names=='Cdkn2a'], color = ['age'])\n",
    "ax = sc.pl.umap(tiss[tiss.obs['age']=='18m'], color = ['Cdkn2a'])\n",
    "ax = sc.pl.umap(tiss[tiss.obs['age']=='21m'], color = ['Cdkn2a'])\n",
    "ax = sc.pl.umap(tiss[tiss.obs['age']=='24m'], color = ['Cdkn2a'])"
   ]
  },
  {
   "cell_type": "code",
   "execution_count": null,
   "metadata": {},
   "outputs": [],
   "source": [
    "\n",
    "\n",
    "sc.pl.dotplot(tiss, ['Cdkn2a','Cd4','Mmp12','Fabp4','Timp1','Il6'], groupby='age', log=False)\n",
    "# dotplot options\n",
    "# use_raw=None, log=False, num_categories=7, color_map='Reds', \n",
    "# figsize=None, var_group_positions=None, var_group_labels=None, \n",
    "# var_group_rotation=None, show=None, save=None, **kwds)"
   ]
  },
  {
   "cell_type": "code",
   "execution_count": null,
   "metadata": {},
   "outputs": [],
   "source": [
    "#ax = sc.pl.stacked_violin(tiss, 'Cdkn2a', groupby='age')\n",
    "sc.pl.violin(tiss, 'Cdkn2a', groupby='age', order = ['3m','18m','21m','24m'], log= False, size = 2)"
   ]
  },
  {
   "cell_type": "code",
   "execution_count": null,
   "metadata": {
    "scrolled": false
   },
   "outputs": [],
   "source": [
    "sc.pl.heatmap(tiss, 'Cdkn2a')"
   ]
  },
  {
   "cell_type": "code",
   "execution_count": null,
   "metadata": {},
   "outputs": [],
   "source": [
    "tiss.var_names\n"
   ]
  },
  {
   "cell_type": "code",
   "execution_count": null,
   "metadata": {},
   "outputs": [],
   "source": [
    "inflammation_markers = ['A2m','Abr','Ace','Ackr1','Ackr2','Acod1','Acp5','Ada','Adam8','Adam17',\n",
    "                        'Adamts12','Adcyap1','Adipoq','Adora1','Adora2a','Adora2b','Adora3',\n",
    "                        'Adra2a','Adrb2','Afap1l2','Ager','Agt','Agtr1a','Agtr1b','Agtr2','Ahcy',\n",
    "                        'Ahsg','Aim2','Aimp1','Ak7','Akt1','Alox5','Alox5ap','Ankrd42','Ano6',\n",
    "                        'Anxa1','Aoah','Aoc3','Apoa1','Apod','Apoe','Ash1l','Atrn','Axl']\n",
    "                        \n",
    "                        \n",
    "                        \n",
    "                        \n",
    "                        \n",
    "                        \n",
    "                        \n",
    "                        \n",
    "                        \n",
    "                        \n",
    "                        "
   ]
  },
  {
   "cell_type": "code",
   "execution_count": null,
   "metadata": {},
   "outputs": [],
   "source": []
  },
  {
   "cell_type": "markdown",
   "metadata": {},
   "source": [
    "## finding marker genes"
   ]
  },
  {
   "cell_type": "code",
   "execution_count": null,
   "metadata": {},
   "outputs": [],
   "source": [
    "sc.tl.rank_genes_groups(tiss, 'louvain')\n",
    "sc.pl.rank_genes_groups(tiss, n_genes=20)#, save='louvain_clusters_top_genes.pdf')\n",
    "#adata.write(results_file)"
   ]
  },
  {
   "cell_type": "code",
   "execution_count": null,
   "metadata": {},
   "outputs": [],
   "source": [
    "sc.pl.rank_genes_groups_violin(tiss, n_genes=8, groups=['1'])"
   ]
  },
  {
   "cell_type": "code",
   "execution_count": null,
   "metadata": {},
   "outputs": [],
   "source": [
    "#sc.tl.rank_genes_groups(tiss, 'louvain', method='logreg')\n",
    "sc.pl.rank_genes_groups(tiss, n_genes=20)"
   ]
  },
  {
   "cell_type": "markdown",
   "metadata": {},
   "source": [
    "### Show the 10 top ranked genes per cluster in a dataframe."
   ]
  },
  {
   "cell_type": "code",
   "execution_count": null,
   "metadata": {},
   "outputs": [],
   "source": [
    "pd.DataFrame(tiss.uns['rank_genes_groups']['names']).head(10)"
   ]
  },
  {
   "cell_type": "markdown",
   "metadata": {},
   "source": [
    "### Get a table with scores and groups.\n",
    "\n"
   ]
  },
  {
   "cell_type": "code",
   "execution_count": null,
   "metadata": {},
   "outputs": [],
   "source": [
    "result = tiss.uns['rank_genes_groups']\n",
    "groups = result['names'].dtype.names\n",
    "pd.DataFrame({group + '_' + key[:1]: result[key][group]\n",
    "    for group in groups for key in ['names', 'scores']}).head(5)"
   ]
  },
  {
   "cell_type": "code",
   "execution_count": null,
   "metadata": {},
   "outputs": [],
   "source": [
    "sc.pl.violin(tiss, ['Cdkn2a','Myoc','Gpx3'],groupby='Age', rotation=90)#, save='.pdf')"
   ]
  },
  {
   "cell_type": "code",
   "execution_count": null,
   "metadata": {},
   "outputs": [],
   "source": [
    "\n",
    "sc.pl.violin(tiss[tiss.obs['Age']=='3m',:], ['Cdkn2a'],groupby='cell_ontology_class',rotation=90)#, save='.pdf')\n"
   ]
  },
  {
   "cell_type": "code",
   "execution_count": null,
   "metadata": {},
   "outputs": [],
   "source": [
    "sc.pl.violin(tiss[tiss.obs['Age']=='18m',:], ['Cdkn2a'],groupby='cell_ontology_class', rotation=90)#, save='.pdf')\n"
   ]
  },
  {
   "cell_type": "code",
   "execution_count": null,
   "metadata": {},
   "outputs": [],
   "source": [
    "sc.pl.violin(tiss[tiss.obs['Age']=='21m',:], ['Cdkn2a'],groupby='cell_ontology_class', rotation=90)#, save='.pdf')\n"
   ]
  },
  {
   "cell_type": "code",
   "execution_count": null,
   "metadata": {},
   "outputs": [],
   "source": [
    "sc.pl.violin(tiss[tiss.obs['Age']=='24m',:], ['Cdkn2a'],groupby='cell_ontology_class', rotation=90)#, save='.pdf')\n"
   ]
  },
  {
   "cell_type": "code",
   "execution_count": null,
   "metadata": {},
   "outputs": [],
   "source": [
    "def _build_subplots(n):\n",
    "    '''\n",
    "    Build subplots grid\n",
    "    n: number of subplots\n",
    "    '''\n",
    "    nrow = int(np.sqrt(n))\n",
    "    ncol = int(np.ceil(n / nrow))\n",
    "    fig, axs = plt.subplots(nrow, ncol, dpi=100, figsize=(ncol*5, nrow*5))\n",
    "    fig.subplots_adjust(hspace=.9)\n",
    "\n",
    "    return fig, axs, nrow, ncol"
   ]
  },
  {
   "cell_type": "code",
   "execution_count": null,
   "metadata": {},
   "outputs": [],
   "source": [
    "list(set(tiss.obs['Age']))"
   ]
  },
  {
   "cell_type": "code",
   "execution_count": null,
   "metadata": {},
   "outputs": [],
   "source": [
    "ages = ['3m','18m','24m']#,'21m'\n",
    "\n",
    "fig, axs, nrow, ncol = _build_subplots(len(ages))\n",
    "\n",
    "axs = axs.ravel()\n",
    "\n",
    "for i in range(nrow*ncol):\n",
    "    age = ages[i]\n",
    "    axs[i].set_title(ages[i])\n",
    "    sc.pl.violin(tiss[tiss.obs['Age']==ages[i],:], ['Cdkn2a'],\n",
    "                 groupby='cell_ontology_class', \n",
    "                 rotation=90,\n",
    "                 ax=axs[i],show=False)\n",
    "\n",
    "fig.savefig('figures/%s_p16.pdf' % tissofinterest, bbox_inches='tight')"
   ]
  },
  {
   "cell_type": "code",
   "execution_count": null,
   "metadata": {},
   "outputs": [],
   "source": [
    "f, axarr = plt.subplots(2,2)\n",
    "axarr[0,0] = sc.pl.violin(tiss[tiss.obs['Age']=='24m',:], ['Cdkn2a'],groupby='cell_ontology_class', rotation=90)\n",
    "#axarr[0,1].sc.pl.violin(tiss[tiss.obs['Age']=='24m',:], ['Cdkn2a'],groupby='cell_ontology_class', rotation=90)\n",
    "#axarr[1,0].sc.pl.violin(tiss[tiss.obs['Age']=='24m',:], ['Cdkn2a'],groupby='cell_ontology_class', rotation=90)\n",
    "#axarr[1,1].sc.pl.violin(tiss[tiss.obs['Age']=='24m',:], ['Cdkn2a'],groupby='cell_ontology_class', rotation=90)"
   ]
  },
  {
   "cell_type": "code",
   "execution_count": null,
   "metadata": {},
   "outputs": [],
   "source": [
    "sc.pl.scatter(n_genes, n_cells,color='Age', rotation=90)#, save='.pdf')\n"
   ]
  },
  {
   "cell_type": "code",
   "execution_count": null,
   "metadata": {},
   "outputs": [],
   "source": [
    "sc.tl.rank_genes_groups(tiss, 'cell_ontology_class')\n",
    "sc.pl.rank_genes_groups(tiss, n_genes=20, save='cell_types_top_genes.pdf')"
   ]
  },
  {
   "cell_type": "code",
   "execution_count": null,
   "metadata": {},
   "outputs": [],
   "source": [
    "sc.tl.rank_genes_groups(tiss, 'age')\n",
    "sc.pl.rank_genes_groups(tiss, n_genes=20, save='age_top_genes.pdf')"
   ]
  },
  {
   "cell_type": "markdown",
   "metadata": {},
   "source": [
    "### subset for cell ontology"
   ]
  },
  {
   "cell_type": "code",
   "execution_count": null,
   "metadata": {},
   "outputs": [],
   "source": [
    "tiss.obs[tiss.obs['cell_ontology_class'] == tiss.obs['cell_ontology_class'][1]].head()"
   ]
  },
  {
   "cell_type": "code",
   "execution_count": null,
   "metadata": {},
   "outputs": [],
   "source": [
    "subtiss = tiss[tiss.obs['cell_ontology_class'] == tiss.obs['cell_ontology_class'][3],:]\n",
    "sc.tl.rank_genes_groups(subtiss, 'Age', groups=['24m'], reference='3m')#, method='logreg')\n",
    "sc.pl.rank_genes_groups(subtiss, n_genes=20, groups=['24m'], save='subtiss_louvain_clusters_top_genes.pdf')"
   ]
  },
  {
   "cell_type": "code",
   "execution_count": null,
   "metadata": {},
   "outputs": [],
   "source": [
    "sc.pl.rank_genes_groups(subtiss, n_genes=20, save='subtiss_louvain_clusters_top_genes.pdf')"
   ]
  },
  {
   "cell_type": "markdown",
   "metadata": {},
   "source": [
    "## Force-directed graph"
   ]
  },
  {
   "cell_type": "code",
   "execution_count": null,
   "metadata": {},
   "outputs": [],
   "source": [
    "sc.tl.draw_graph(adata) # be patient here..."
   ]
  },
  {
   "cell_type": "code",
   "execution_count": null,
   "metadata": {},
   "outputs": [],
   "source": [
    "sc.pl.draw_graph(adata, color=['Tissue'])"
   ]
  },
  {
   "cell_type": "code",
   "execution_count": null,
   "metadata": {},
   "outputs": [],
   "source": [
    "sc.pl.draw_graph(adata, color=['Age'])"
   ]
  },
  {
   "cell_type": "code",
   "execution_count": null,
   "metadata": {},
   "outputs": [],
   "source": [
    "sc.pl.draw_graph(adata, color=['Sex'])"
   ]
  },
  {
   "cell_type": "code",
   "execution_count": null,
   "metadata": {},
   "outputs": [],
   "source": [
    "sc.pl.draw_graph(adata, color=['louvain'])"
   ]
  },
  {
   "cell_type": "markdown",
   "metadata": {},
   "source": [
    "# Pseudotime analysis"
   ]
  },
  {
   "cell_type": "code",
   "execution_count": null,
   "metadata": {},
   "outputs": [],
   "source": [
    "sc.pp.neighbors(adata)\n"
   ]
  },
  {
   "cell_type": "code",
   "execution_count": null,
   "metadata": {},
   "outputs": [],
   "source": [
    "sc.tl.diffmap(adata)"
   ]
  },
  {
   "cell_type": "code",
   "execution_count": null,
   "metadata": {},
   "outputs": [],
   "source": [
    "sc.tl.dpt(adata, n_branchings=1)"
   ]
  },
  {
   "cell_type": "code",
   "execution_count": null,
   "metadata": {},
   "outputs": [],
   "source": [
    "#sc.pl.diffmap(adata, color=['dpt_pseudotime', 'dpt_groups', 'age'])"
   ]
  },
  {
   "cell_type": "code",
   "execution_count": null,
   "metadata": {},
   "outputs": [],
   "source": [
    "#sc.pl.diffmap(adata, color=['dpt_pseudotime'])"
   ]
  },
  {
   "cell_type": "code",
   "execution_count": null,
   "metadata": {},
   "outputs": [],
   "source": [
    "#sc.pl.diffmap(adata, color=['dpt_groups'])"
   ]
  },
  {
   "cell_type": "code",
   "execution_count": null,
   "metadata": {},
   "outputs": [],
   "source": [
    "#sc.pl.diffmap(adata, color=['Age'])"
   ]
  },
  {
   "cell_type": "markdown",
   "metadata": {},
   "source": [
    "# Save processed data"
   ]
  },
  {
   "cell_type": "code",
   "execution_count": null,
   "metadata": {},
   "outputs": [],
   "source": [
    "tiss.write('./write/maca-droplet.processed_' +  tissofinterest + '.h5ad')"
   ]
  },
  {
   "cell_type": "code",
   "execution_count": null,
   "metadata": {},
   "outputs": [],
   "source": [
    "def export_to_csv(adata, prefix):\n",
    "    pd.DataFrame(adata.X, index = adata.obs_names, columns=adata.var_names).to_csv('./write/maca-droplet.processed_' +  prefix + '-expression.csv')\n",
    "    adata.obs.to_csv('./write/maca-droplet.processed_' +  prefix + '-metadata.csv')"
   ]
  },
  {
   "cell_type": "code",
   "execution_count": null,
   "metadata": {},
   "outputs": [],
   "source": [
    "export_to_csv(tiss,tissofinterest)"
   ]
  },
  {
   "cell_type": "code",
   "execution_count": null,
   "metadata": {},
   "outputs": [],
   "source": []
  }
 ],
 "metadata": {
  "kernelspec": {
   "display_name": "Python 3",
   "language": "python",
   "name": "python3"
  },
  "language_info": {
   "codemirror_mode": {
    "name": "ipython",
    "version": 3
   },
   "file_extension": ".py",
   "mimetype": "text/x-python",
   "name": "python",
   "nbconvert_exporter": "python",
   "pygments_lexer": "ipython3",
   "version": "3.6.5"
  }
 },
 "nbformat": 4,
 "nbformat_minor": 2
}
