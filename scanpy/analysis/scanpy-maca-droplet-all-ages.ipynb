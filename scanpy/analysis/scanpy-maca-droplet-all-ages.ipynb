{
 "cells": [
  {
   "cell_type": "code",
   "execution_count": 1,
   "metadata": {},
   "outputs": [
    {
     "name": "stderr",
     "output_type": "stream",
     "text": [
      "/home/ubuntu/anaconda3/lib/python3.6/site-packages/h5py/__init__.py:36: FutureWarning: Conversion of the second argument of issubdtype from `float` to `np.floating` is deprecated. In future, it will be treated as `np.float64 == np.dtype(float).type`.\n",
      "  from ._conv import register_converters as _register_converters\n"
     ]
    },
    {
     "name": "stdout",
     "output_type": "stream",
     "text": [
      "scanpy==1.3.1 anndata==0.6.10 numpy==1.14.3 scipy==1.1.0 pandas==0.23.0 scikit-learn==0.19.1 statsmodels==0.9.0 python-igraph==0.7.1 louvain==0.6.1 \n"
     ]
    }
   ],
   "source": [
    "import numpy as np\n",
    "import pandas as pd\n",
    "import matplotlib.pyplot as plt\n",
    "import csv\n",
    "import scanpy.api as sc\n",
    "from igraph import *\n",
    "from MulticoreTSNE import MulticoreTSNE as TSNE #faster TSNE alternative\n",
    "from anndata import read_h5ad\n",
    "import dill # for saving everything\n",
    "\n",
    "sc.logging.print_versions()"
   ]
  },
  {
   "cell_type": "markdown",
   "metadata": {},
   "source": [
    "# Load data"
   ]
  },
  {
   "cell_type": "markdown",
   "metadata": {},
   "source": [
    "## 18, 21 and 24 months"
   ]
  },
  {
   "cell_type": "code",
   "execution_count": null,
   "metadata": {},
   "outputs": [],
   "source": [
    "path = '/data/maca/data/'\n",
    "maca10x182124metadata = pd.read_csv('/data/maca/data/MACA_10x_18-21-24_qc.csv',usecols = ['channel','tissue','tissue.notes','mouse.age','mouse.sex'])\n",
    "\n",
    "maca10x182124metadata = maca10x182124metadata.rename(columns = {'mouse.age':'age','mouse.sex':'sex','tissue.notes':'subtissue'})\n",
    "maca10x182124metadata.index = range(len(maca10x182124metadata))"
   ]
  },
  {
   "cell_type": "code",
   "execution_count": null,
   "metadata": {},
   "outputs": [],
   "source": [
    "maca10x182124metadata.head()\n",
    "#len(maca10x182124metadata)"
   ]
  },
  {
   "cell_type": "code",
   "execution_count": null,
   "metadata": {},
   "outputs": [],
   "source": [
    "adata182124aux = []\n",
    "for i in range(0,len(maca10x182124metadata)):\n",
    "    path = '/data/maca/data/' + maca10x182124metadata.channel[i] + '/'\n",
    "    foo = sc.read(path + 'matrix.mtx', cache=True).transpose()\n",
    "    foo.var_names = np.genfromtxt(path + 'genes.tsv', dtype=str)[:, 1]\n",
    "    foo.obs_names = np.genfromtxt(path + 'barcodes.tsv', dtype=str)\n",
    "    foo.obs['tissue'] = str(maca10x182124metadata.tissue[i]).title()\n",
    "    #foo.obs['subTissue'] = str(maca10x182124metadata.subtissue[i]).title()\n",
    "    \n",
    "    \n",
    "    if pd.isnull(maca10x182124metadata.subtissue[i]):\n",
    "        foo.obs['subtissue'] = maca10x182124metadata.subtissue[i]\n",
    "    else:        \n",
    "        foo.obs['subtissue'] = str(maca10x182124metadata.subtissue[i]).title()\n",
    "        \n",
    "    \n",
    "    foo.obs['age'] = str(maca10x182124metadata.age[i]) + 'm'\n",
    "    \n",
    "    if maca10x182124metadata.sex[i] == 'M':\n",
    "        foo.obs['sex'] = 'male'\n",
    "    else:\n",
    "        foo.obs['sex'] = 'female'\n",
    "    \n",
    "    if maca10x182124metadata.tissue[i] == 'MUSCLE':\n",
    "        foo.obs['tissue'] = 'Limb_Muscle'\n",
    "        \n",
    "    sc.pp.filter_cells(foo, min_genes=250)\n",
    "    \n",
    "    foo.obs['channel'] = maca10x182124metadata.channel[i]# + foo.obs_names.split(\"-\")[0]\n",
    "    \n",
    "    foo.obs['cell_ontology_class'] = 'NA' #maca10x3metadata.cell_ontology_class[i]\n",
    "    #foo.obs['CellTypeID'] = maca10x3metadata.cell_ontology_id[i]\n",
    "    #foo.obs['FreeAnn'] = maca10x3metadata.free_annotation[i]\n",
    "    \n",
    "    adata182124aux.append(foo)\n",
    "    #print(adata3.X.size*8/1000000) # convert to Mb\n",
    "\n",
    "\n",
    "first = adata182124aux.pop()\n",
    "adata182124 = first.concatenate(adata182124aux)\n",
    "adata182124.obs['cell'] = adata182124.obs['channel'] + '_' + adata182124.obs_names\n",
    "adata182124.obs['cell'] = adata182124.obs['cell'].apply(lambda x: pd.Series(x.split('-')))[0]\n",
    "adata182124.obs['method'] = 'droplet'\n",
    "\n",
    "adata182124.obs.head()"
   ]
  },
  {
   "cell_type": "code",
   "execution_count": null,
   "metadata": {},
   "outputs": [],
   "source": [
    "set(adata182124.obs['tissue'])\n"
   ]
  },
  {
   "cell_type": "markdown",
   "metadata": {},
   "source": [
    "## 3months"
   ]
  },
  {
   "cell_type": "code",
   "execution_count": null,
   "metadata": {},
   "outputs": [],
   "source": [
    "path = '/data/maca/data/10x/'\n",
    "maca10x3metadata = pd.read_csv('/data/maca/data/10x/MACA_10x_3_qc.csv',usecols = ['channel','tissue','tissue.notes','mouse.age','mouse.sex','pool'])\n",
    "maca10x3metadata2 = pd.read_csv('/data/maca/data/10x/TM_droplet_metadata.csv', low_memory=False)\n",
    "\n",
    "maca10x3metadata = maca10x3metadata.rename(columns = {'mouse.age':'age','mouse.sex':'sex','tissue.notes':'subtissue'})\n",
    "#maca10x3metadata = maca10x3metadata[maca10x3metadata.age == 3]\n",
    "maca10x3metadata.index = range(len(maca10x3metadata))\n",
    "\n",
    "maca10x3metadata.head()"
   ]
  },
  {
   "cell_type": "code",
   "execution_count": null,
   "metadata": {},
   "outputs": [],
   "source": [
    "adata3aux = []\n",
    "for i in range(0,len(maca10x3metadata)):\n",
    "    #print(i)\n",
    "    path = '/data/maca/data/10x/' + maca10x3metadata.channel[i] + '/'\n",
    "    foo = sc.read(path + 'matrix.mtx', cache=True).transpose()\n",
    "    foo.var_names = np.genfromtxt(path + 'genes.tsv', dtype=str)[:, 1]\n",
    "    foo.obs_names = np.genfromtxt(path + 'barcodes.tsv', dtype=str)\n",
    "    foo.obs['tissue'] = maca10x3metadata.tissue[i]\n",
    "    foo.obs['subtissue'] = maca10x3metadata.subtissue[i]\n",
    "    foo.obs['age'] = str(maca10x3metadata.age[i]) + 'm'\n",
    "    \n",
    "    if maca10x3metadata.sex[i] == 'M':\n",
    "        foo.obs['sex'] = 'male'\n",
    "    else:\n",
    "        foo.obs['sex'] = 'female'\n",
    "    \n",
    "    if maca10x3metadata.tissue[i] == 'Muscle':\n",
    "        foo.obs['tissue'] = 'Limb_Muscle'\n",
    "        \n",
    "    sc.pp.filter_cells(foo, min_genes=250)\n",
    "    \n",
    "    foo.obs['channel'] = maca10x3metadata.channel[i]# + foo.obs_names.split(\"-\")[0]\n",
    "    \n",
    "    foo.obs['cell_ontology_class'] = 'NA' #maca10x3metadata.cell_ontology_class[i]\n",
    "    #foo.obs['CellTypeID'] = maca10x3metadata.cell_ontology_id[i]\n",
    "    #foo.obs['FreeAnn'] = maca10x3metadata.free_annotation[i]\n",
    "    \n",
    "    adata3aux.append(foo)\n",
    "    #print(adata3.X.size*8/1000000) # convert to Mb\n",
    "\n",
    "first = adata3aux.pop()\n",
    "adata3 = first.concatenate(adata3aux)\n",
    "adata3.obs['cell'] = adata3.obs['channel'] + '_' + adata3.obs_names\n",
    "adata3.obs['cell'] = adata3.obs['cell'].apply(lambda x: pd.Series(x.split('-')))[0]\n",
    "adata3.obs['method'] = 'droplet'\n",
    "display(adata3.obs.head())\n",
    "adata3"
   ]
  },
  {
   "cell_type": "code",
   "execution_count": null,
   "metadata": {
    "scrolled": false
   },
   "outputs": [],
   "source": [
    "set(adata3.obs['tissue'])"
   ]
  },
  {
   "cell_type": "markdown",
   "metadata": {},
   "source": [
    "## concatenate all time points"
   ]
  },
  {
   "cell_type": "code",
   "execution_count": null,
   "metadata": {},
   "outputs": [],
   "source": [
    "adata = adata182124.concatenate([adata3])\n",
    "adata"
   ]
  },
  {
   "cell_type": "markdown",
   "metadata": {},
   "source": [
    "## import tabula-muris facs data"
   ]
  },
  {
   "cell_type": "code",
   "execution_count": null,
   "metadata": {},
   "outputs": [],
   "source": [
    "# tm_facs_metadata = pd.read_csv('/data/maca/data/facs3mo/TM_facs_metadata.csv',usecols = ['cell','tissue','subtissue','mouse.sex','method','cell_ontology_class','cell_ontology_id','free_annotation'])\n",
    "# tm_facs_metadata = tm_facs_metadata.rename(columns = {'mouse.sex':'sex'})\n",
    "# display(tm_facs_metadata.head())\n",
    "# tm_facs_metadata = tm_facs_metadata.set_index('cell')\n",
    "# tm_facs_metadata.tail()"
   ]
  },
  {
   "cell_type": "code",
   "execution_count": null,
   "metadata": {},
   "outputs": [],
   "source": [
    "# tm_facs_data = read_h5ad('/data/maca/data/facs3mo/TM_facs_mat.h5ad')\n",
    "# tm_facs_data"
   ]
  },
  {
   "cell_type": "code",
   "execution_count": null,
   "metadata": {},
   "outputs": [],
   "source": [
    "# tm_facs_data.obs.tail()"
   ]
  },
  {
   "cell_type": "code",
   "execution_count": null,
   "metadata": {},
   "outputs": [],
   "source": [
    "# #tm_facs_data.obs['cell_ontology_class'] = tm_facs_data.obs['index'].map(tm_facs_metadata['cell_ontology_class'])\n",
    "# tm_facs_data.obs = tm_facs_metadata\n",
    "# tm_facs_data.obs['age'] = '3m'\n",
    "# for i in range(0,len(tm_facs_data.obs)):\n",
    "#     if tm_facs_data.obs['sex'][i] == 'M':\n",
    "#         tm_facs_data.obs['sex'][i] = 'male'\n",
    "#     else:\n",
    "#         tm_facs_data.obs['sex'][i] = 'female'\n",
    "#     if tm_facs_data.obs['tissue'][i] == 'Mammary_Gland':\n",
    "#         tm_facs_data.obs['tissue'][i] = 'Mammary'\n",
    "\n",
    "# tm_facs_data.obs.head()"
   ]
  },
  {
   "cell_type": "code",
   "execution_count": null,
   "metadata": {},
   "outputs": [],
   "source": [
    "# tm_facs_data"
   ]
  },
  {
   "cell_type": "code",
   "execution_count": null,
   "metadata": {},
   "outputs": [],
   "source": [
    "# adata = adata.concatenate(tm_facs_data)\n",
    "# adata"
   ]
  },
  {
   "cell_type": "code",
   "execution_count": null,
   "metadata": {},
   "outputs": [],
   "source": [
    "adata.write('./write/maca-droplet.h5ad')"
   ]
  },
  {
   "cell_type": "code",
   "execution_count": null,
   "metadata": {},
   "outputs": [],
   "source": [
    "import gc\n",
    "gc.collect()"
   ]
  },
  {
   "cell_type": "markdown",
   "metadata": {},
   "source": [
    "# Import all data"
   ]
  },
  {
   "cell_type": "code",
   "execution_count": null,
   "metadata": {},
   "outputs": [],
   "source": [
    "adata = read_h5ad('./write/maca-droplet.h5ad')\n",
    "type(adata.X)\n"
   ]
  },
  {
   "cell_type": "code",
   "execution_count": null,
   "metadata": {},
   "outputs": [],
   "source": [
    "adata.shape"
   ]
  },
  {
   "cell_type": "code",
   "execution_count": null,
   "metadata": {},
   "outputs": [],
   "source": [
    "adata"
   ]
  },
  {
   "cell_type": "code",
   "execution_count": null,
   "metadata": {},
   "outputs": [],
   "source": [
    "adata.obs.head()"
   ]
  },
  {
   "cell_type": "markdown",
   "metadata": {},
   "source": [
    "# Preprocessing"
   ]
  },
  {
   "cell_type": "code",
   "execution_count": null,
   "metadata": {},
   "outputs": [],
   "source": [
    "sc.pp.filter_genes(adata, min_cells=5)\n",
    "sc.pp.filter_cells(adata, min_genes=250)\n",
    "adata"
   ]
  },
  {
   "cell_type": "code",
   "execution_count": null,
   "metadata": {},
   "outputs": [],
   "source": [
    "# add the total counts per cell as observations-annotation to adata\n",
    "adata.obs['n_counts'] = np.sum(adata.X, axis=1).A1\n",
    "adata"
   ]
  },
  {
   "cell_type": "code",
   "execution_count": null,
   "metadata": {},
   "outputs": [],
   "source": [
    "axs = sc.pl.violin(adata, ['n_genes', 'n_counts'],\n",
    "                   jitter=0.4, multi_panel=True)"
   ]
  },
  {
   "cell_type": "code",
   "execution_count": null,
   "metadata": {},
   "outputs": [],
   "source": [
    "ax = sc.pl.scatter(adata, x='n_counts', y='n_genes')"
   ]
  },
  {
   "cell_type": "code",
   "execution_count": null,
   "metadata": {},
   "outputs": [],
   "source": [
    "sc.pp.normalize_per_cell(adata, counts_per_cell_after=1e4) #simple lib size normalization?\n",
    "adata.raw = adata"
   ]
  },
  {
   "cell_type": "code",
   "execution_count": null,
   "metadata": {},
   "outputs": [],
   "source": [
    "filter_result = sc.pp.filter_genes_dispersion(\n",
    "    adata.X, min_mean=0.0125, max_mean=10, min_disp=0.5)\n",
    "sc.pl.filter_genes_dispersion(filter_result)"
   ]
  },
  {
   "cell_type": "code",
   "execution_count": null,
   "metadata": {},
   "outputs": [],
   "source": [
    "adata = adata[:, filter_result.gene_subset]\n",
    "adata.shape"
   ]
  },
  {
   "cell_type": "code",
   "execution_count": null,
   "metadata": {},
   "outputs": [],
   "source": [
    "sc.pp.log1p(adata)"
   ]
  },
  {
   "cell_type": "code",
   "execution_count": null,
   "metadata": {},
   "outputs": [],
   "source": [
    "sc.pp.scale(adata, max_value=10, zero_center=False)"
   ]
  },
  {
   "cell_type": "markdown",
   "metadata": {},
   "source": [
    "# Exploration\n",
    "## PCA"
   ]
  },
  {
   "cell_type": "code",
   "execution_count": null,
   "metadata": {},
   "outputs": [],
   "source": [
    "sc.tl.pca(adata)"
   ]
  },
  {
   "cell_type": "code",
   "execution_count": null,
   "metadata": {},
   "outputs": [],
   "source": [
    "ax = sc.pl.pca_scatter(adata, color=['tissue'], right_margin=0.5, save='_all_ages_droplet_tissue.pdf')"
   ]
  },
  {
   "cell_type": "code",
   "execution_count": null,
   "metadata": {},
   "outputs": [],
   "source": [
    "ax = sc.pl.pca_scatter(adata, color=['age'], right_margin=0.5, save='_all_ages_droplet_age.pdf')"
   ]
  },
  {
   "cell_type": "code",
   "execution_count": null,
   "metadata": {},
   "outputs": [],
   "source": [
    "ax = sc.pl.pca_scatter(adata, color=['sex'], right_margin=0.5, save='_all_ages_droplet_sex.pdf')"
   ]
  },
  {
   "cell_type": "code",
   "execution_count": null,
   "metadata": {},
   "outputs": [],
   "source": [
    "ax = sc.pl.pca_scatter(adata, color='n_counts', right_margin=0.5, save='_all_ages_droplet_counts.pdf')"
   ]
  },
  {
   "cell_type": "code",
   "execution_count": null,
   "metadata": {},
   "outputs": [],
   "source": [
    "ax = sc.pl.pca_scatter(adata, color='method', right_margin=0.5, save='_all_ages_droplet_method.pdf')"
   ]
  },
  {
   "cell_type": "code",
   "execution_count": null,
   "metadata": {},
   "outputs": [],
   "source": [
    "sc.pl.pca_variance_ratio(adata, log=True)"
   ]
  },
  {
   "cell_type": "markdown",
   "metadata": {},
   "source": [
    "## Louvain clustering"
   ]
  },
  {
   "cell_type": "code",
   "execution_count": null,
   "metadata": {},
   "outputs": [],
   "source": [
    "sc.pp.neighbors(adata, n_neighbors=15)#, method='gauss')\n",
    "sc.tl.louvain(adata, resolution = 0.3)"
   ]
  },
  {
   "cell_type": "code",
   "execution_count": null,
   "metadata": {},
   "outputs": [],
   "source": [
    "adata"
   ]
  },
  {
   "cell_type": "markdown",
   "metadata": {},
   "source": [
    "## UMAP"
   ]
  },
  {
   "cell_type": "code",
   "execution_count": null,
   "metadata": {},
   "outputs": [],
   "source": [
    "sc.tl.umap(adata)"
   ]
  },
  {
   "cell_type": "code",
   "execution_count": null,
   "metadata": {},
   "outputs": [],
   "source": [
    "sc.settings.set_figure_params(dpi=200)\n",
    "sc.pl.umap(adata, color=['tissue'], right_margin=0.5, save='_all_ages_droplet_tissue.pdf')"
   ]
  },
  {
   "cell_type": "code",
   "execution_count": null,
   "metadata": {},
   "outputs": [],
   "source": [
    "sc.settings.set_figure_params(dpi=200)\n",
    "sc.pl.umap(adata, color=['age'], right_margin=0.5, save='_all_ages_droplet_age.pdf')"
   ]
  },
  {
   "cell_type": "code",
   "execution_count": null,
   "metadata": {},
   "outputs": [],
   "source": [
    "sc.settings.set_figure_params(dpi=200)\n",
    "sc.pl.umap(adata, color=['sex'], right_margin=0.5, save='_all_ages_droplet_sex.pdf')"
   ]
  },
  {
   "cell_type": "code",
   "execution_count": null,
   "metadata": {},
   "outputs": [],
   "source": [
    "sc.settings.set_figure_params(dpi=200)\n",
    "sc.pl.umap(adata, color=['louvain'], right_margin=0.5, save='_all_ages_droplet_louvain.pdf')"
   ]
  },
  {
   "cell_type": "code",
   "execution_count": null,
   "metadata": {},
   "outputs": [],
   "source": [
    "sc.settings.set_figure_params(dpi=200)\n",
    "sc.pl.umap(adata, color=['method'], right_margin=0.5, save='_all_ages_droplet_method.pdf')"
   ]
  },
  {
   "cell_type": "markdown",
   "metadata": {},
   "source": [
    "## tSNE"
   ]
  },
  {
   "cell_type": "code",
   "execution_count": null,
   "metadata": {},
   "outputs": [],
   "source": [
    "sc.tl.tsne(adata, perplexity=50)"
   ]
  },
  {
   "cell_type": "code",
   "execution_count": null,
   "metadata": {},
   "outputs": [],
   "source": [
    "sc.settings.set_figure_params(dpi=200)\n",
    "sc.pl.tsne(adata, color=['tissue'], right_margin=0.5, save='_all_ages_droplet_tissue.pdf')"
   ]
  },
  {
   "cell_type": "code",
   "execution_count": null,
   "metadata": {},
   "outputs": [],
   "source": [
    "sc.pl.tsne(adata, color=['age'], right_margin=0.5, save='_all_ages_droplet_age.pdf')"
   ]
  },
  {
   "cell_type": "code",
   "execution_count": null,
   "metadata": {},
   "outputs": [],
   "source": [
    "sc.pl.tsne(adata, color=['sex'], right_margin=0.5, save='_all_ages_droplet_sex.pdf')"
   ]
  },
  {
   "cell_type": "code",
   "execution_count": null,
   "metadata": {},
   "outputs": [],
   "source": [
    "sc.pl.tsne(adata, color=['method'], right_margin=0.5, save='_all_ages_droplet_method.pdf')"
   ]
  },
  {
   "cell_type": "code",
   "execution_count": null,
   "metadata": {},
   "outputs": [],
   "source": [
    "sc.pl.tsne(adata, color=['louvain'], right_margin=0.5, save='_all_ages_droplet_louvain.pdf')"
   ]
  },
  {
   "cell_type": "markdown",
   "metadata": {},
   "source": [
    "# Save processed data"
   ]
  },
  {
   "cell_type": "code",
   "execution_count": null,
   "metadata": {},
   "outputs": [],
   "source": [
    "adata.write('./write/maca-droplet.processed.h5ad')"
   ]
  },
  {
   "cell_type": "markdown",
   "metadata": {},
   "source": [
    "# Explore & play "
   ]
  },
  {
   "cell_type": "code",
   "execution_count": null,
   "metadata": {},
   "outputs": [],
   "source": [
    "inflammation_markers_all = ['A2m','Abr','Ace','Ackr1','Ackr2','Acod1','Acp5','Ada','Adam8','Adam17',\n",
    "                        'Adamts12','Adcyap1','Adipoq','Adora1','Adora2a','Adora2b','Adora3',\n",
    "                        'Adra2a','Adrb2','Afap1l2','Ager','Agt','Agtr1a','Agtr1b','Agtr2','Ahcy',\n",
    "                        'Ahsg','Aim2','Aimp1','Ak7','Akt1','Alox5','Alox5ap','Ankrd42','Ano6',\n",
    "                        'Anxa1','Aoah','Aoc3','Apoa1','Apod','Apoe','Ash1l','Atrn','Axl']\n",
    "\n",
    "inflammation_markers = list()\n",
    "for i in range(0,len(inflammation_markers_all)):\n",
    "    if inflammation_markers_all[i] in list(adata.var_names):\n",
    "#         inflammation_markers = \n",
    "        inflammation_markers.append(inflammation_markers_all[i])\n",
    "\n",
    "inflammation_markers"
   ]
  },
  {
   "cell_type": "code",
   "execution_count": null,
   "metadata": {
    "scrolled": false
   },
   "outputs": [],
   "source": [
    "#sc.pl.dotplot(adata[adata.obs['age']=='3m'], ['Cdkn2a','Cd4','Mmp12','Fabp4','Timp1','Il6'], groupby='tissue', log=False)\n",
    "# sc.pl.dotplot(adata[adata.obs['age']=='3m'], inflammation_markers, groupby='tissue', log=False)\n",
    "# sc.pl.dotplot(adata[adata.obs['age']=='18m'], inflammation_markers, groupby='tissue', log=False)\n",
    "# sc.pl.dotplot(adata[adata.obs['age']=='21m'], inflammation_markers, groupby='tissue', log=False)\n",
    "sc.pl.dotplot(adata[adata.obs['age']=='24m'], inflammation_markers, groupby='tissue', log=False)"
   ]
  },
  {
   "cell_type": "code",
   "execution_count": null,
   "metadata": {},
   "outputs": [],
   "source": [
    "sc.pl.stacked_violin(adata, inflammation_markers, groupby='tissue')"
   ]
  },
  {
   "cell_type": "code",
   "execution_count": null,
   "metadata": {},
   "outputs": [],
   "source": [
    "sc.pl.heatmap(adata, inflammation_markers, groupby='tissue')"
   ]
  },
  {
   "cell_type": "code",
   "execution_count": null,
   "metadata": {},
   "outputs": [],
   "source": [
    "tissues_available = list(set(adata.obs['tissue']))\n",
    "tissues_available.sort()\n",
    "pd.DataFrame(tissues_available,columns=['Tissues'])\n",
    "tissofinterest = tissues_available[6]\n",
    "tiss = adata[adata.obs['tissue'] == tissofinterest,:]\n",
    "tissofinterest"
   ]
  },
  {
   "cell_type": "code",
   "execution_count": null,
   "metadata": {},
   "outputs": [],
   "source": [
    "sc.pp.neighbors(tiss, n_neighbors=15)#, method='gauss')\n",
    "sc.tl.louvain(tiss, resolution = 0.2)"
   ]
  },
  {
   "cell_type": "code",
   "execution_count": null,
   "metadata": {},
   "outputs": [],
   "source": [
    "sc.tl.paga(tiss,groups=\"age\")"
   ]
  },
  {
   "cell_type": "code",
   "execution_count": null,
   "metadata": {},
   "outputs": [],
   "source": [
    "sc.pl.paga(tiss)#, color = 'age')"
   ]
  },
  {
   "cell_type": "code",
   "execution_count": null,
   "metadata": {},
   "outputs": [],
   "source": [
    "sc.pl.paga(tiss, color='age')"
   ]
  },
  {
   "cell_type": "code",
   "execution_count": null,
   "metadata": {},
   "outputs": [],
   "source": [
    "adata = read_h5ad('./write/maca-droplet.processed.h5ad')"
   ]
  },
  {
   "cell_type": "code",
   "execution_count": null,
   "metadata": {},
   "outputs": [],
   "source": [
    "set(adata.obs['method'])"
   ]
  },
  {
   "cell_type": "code",
   "execution_count": null,
   "metadata": {},
   "outputs": [],
   "source": [
    "sc.tl.rank_genes_groups(adata, 'age', groups=['24m'], reference='3m')"
   ]
  },
  {
   "cell_type": "code",
   "execution_count": null,
   "metadata": {},
   "outputs": [],
   "source": [
    "sc.pl.rank_genes_groups(adata, n_genes=20, save='_24m_vs_3m_all_tissues.pdf')"
   ]
  },
  {
   "cell_type": "code",
   "execution_count": null,
   "metadata": {},
   "outputs": [],
   "source": [
    "cluster_genes = pd.DataFrame(adata.uns['rank_genes_groups']['names'])\n",
    "cluster_genes.head(10)"
   ]
  },
  {
   "cell_type": "code",
   "execution_count": null,
   "metadata": {},
   "outputs": [],
   "source": [
    "from goatools import obo_parser\n",
    "import wget\n",
    "import os\n",
    "import sys\n",
    "import pandas as pd\n",
    "import mygene\n",
    "# from unpack_dict_to_col_pd import unpack\n",
    "mg = mygene.MyGeneInfo()"
   ]
  },
  {
   "cell_type": "code",
   "execution_count": null,
   "metadata": {},
   "outputs": [],
   "source": [
    "go_obo_url = 'http://purl.obolibrary.org/obo/go/go-basic.obo'\n",
    "data_folder = './write'\n",
    "\n",
    "# Check if we have the ./data directory already\n",
    "if(not os.path.isfile(data_folder)):\n",
    "    # Emulate mkdir -p (no error if folder exists)\n",
    "    try:\n",
    "        os.mkdir(data_folder)\n",
    "    except OSError as e:\n",
    "        if(e.errno != 17):\n",
    "            raise e\n",
    "else:\n",
    "    raise Exception('Data path (' + data_folder + ') exists as a file. '\n",
    "                   'Please rename, remove or change the desired location of the data path.')\n",
    "\n",
    "# Check if the file exists already\n",
    "if(not os.path.isfile(data_folder+'/go-basic.obo')):\n",
    "    go_obo = wget.download(go_obo_url, data_folder+'/go-basic.obo')\n",
    "else:\n",
    "    go_obo = data_folder+'/go-basic.obo'\n",
    "    \n",
    "print(go_obo)"
   ]
  },
  {
   "cell_type": "code",
   "execution_count": null,
   "metadata": {},
   "outputs": [],
   "source": [
    "# Get http://geneontology.org/ontology/go-basic.obo\n",
    "from goatools.base import download_go_basic_obo\n",
    "obo_fname = download_go_basic_obo()"
   ]
  },
  {
   "cell_type": "code",
   "execution_count": null,
   "metadata": {},
   "outputs": [],
   "source": [
    "# Get ftp://ftp.ncbi.nlm.nih.gov/gene/DATA/gene2go.gz\n",
    "from goatools.base import download_ncbi_associations\n",
    "gene2go = download_ncbi_associations()"
   ]
  },
  {
   "cell_type": "code",
   "execution_count": null,
   "metadata": {},
   "outputs": [],
   "source": [
    "from goatools.associations import read_gaf"
   ]
  },
  {
   "cell_type": "code",
   "execution_count": null,
   "metadata": {},
   "outputs": [],
   "source": [
    "from goatools.obo_parser import GODag\n",
    "\n",
    "obodag = GODag(\"go-basic.obo\")"
   ]
  },
  {
   "cell_type": "code",
   "execution_count": null,
   "metadata": {},
   "outputs": [],
   "source": [
    "from __future__ import print_function\n",
    "from goatools.associations import read_ncbi_gene2go\n",
    "\n",
    "geneid2gos_mouse = read_ncbi_gene2go(\"gene2go\", taxids=[10090])\n",
    "\n",
    "print(\"{N:,} annotated mouse genes\".format(N=len(geneid2gos_mouse)))"
   ]
  },
  {
   "cell_type": "code",
   "execution_count": null,
   "metadata": {},
   "outputs": [],
   "source": [
    "from goatools.test_data.genes_NCBI_10090_ProteinCoding import GeneID2nt as GeneID2nt_mus"
   ]
  },
  {
   "cell_type": "code",
   "execution_count": null,
   "metadata": {},
   "outputs": [],
   "source": [
    "from goatools.go_enrichment import GOEnrichmentStudy\n",
    "\n",
    "goeaobj = GOEnrichmentStudy(\n",
    "        GeneID2nt_mus.keys(), # List of mouse protein-coding genes\n",
    "        geneid2gos_mouse, # geneid/GO associations\n",
    "        obodag, # Ontologies\n",
    "        propagate_counts = False,\n",
    "        alpha = 0.05, # default significance cut-off\n",
    "        methods = ['fdr_bh']) # defult multipletest correction method"
   ]
  },
  {
   "cell_type": "code",
   "execution_count": null,
   "metadata": {},
   "outputs": [],
   "source": [
    "#read in gene symbols:\n",
    "ephys_genes = cluster_genes['24m'] #pd.read_csv('/Volumes/Brain2017/project/GO_term_analysis_ephys/top_ephys/top_ephys_genes_fine.csv', index_col = 0)\n",
    "\n",
    "#remove r squared columns:\n",
    "# cols = [c for c in ephys_genes.columns if c.lower()[:2] != 'r_']\n",
    "ephys_symbol = ephys_genes#[cols]\n",
    "ephys_symbol = pd.DataFrame(ephys_symbol)\n",
    "\n",
    "#convert gene symbols to entrezgene ids, remove NAs and save to dictionary for each for each ephys measure\n",
    "output = {}\n",
    "for c in ephys_symbol.columns:\n",
    "    out = mg.querymany(ephys_symbol[c], scopes='symbol', fields='entrezgene', species='mouse')\n",
    "    out = pd.DataFrame(out)\n",
    "    out = out.dropna(subset = ['entrezgene'])\n",
    "    out.entrezgene = out.entrezgene.astype(int)\n",
    "    entrezgene = out.entrezgene\n",
    "    #filter for protein coding genes:\n",
    "    entrezgene = entrezgene[entrezgene.isin(GeneID2nt_mus.keys())].dropna()\n",
    "    output[c] = entrezgene\n",
    "    \n"
   ]
  },
  {
   "cell_type": "code",
   "execution_count": null,
   "metadata": {},
   "outputs": [],
   "source": [
    "out = mg.querymany(ephys_genes, scopes='symbol', fields='entrezgene', species='mouse')\n",
    "df = pd.DataFrame(out,columns=['query','_id','_score','entrezgene'])\n",
    "# df = df.loc[:,['query','entrezgene']]\n",
    "geneid2symbol = {}\n",
    "for r in range(df.shape[0]):\n",
    "    if df['_id'][r] == df['entrezgene'][r]:\n",
    "        geneid2symbol[int(df['entrezgene'][r])] = df['query'][r]"
   ]
  },
  {
   "cell_type": "code",
   "execution_count": null,
   "metadata": {},
   "outputs": [],
   "source": [
    "# 'p_' means \"pvalue\". 'fdr_bh' is the multipletest method we are currently using.\n",
    "goea_results_sig_dict = {}\n",
    "for key in output.keys():\n",
    "    # 'p_' means \"pvalue\". 'fdr_bh' is the multipletest method we are currently using.\n",
    "    #geneids_study = geneid2symbol.keys()\n",
    "    geneids_study = output[key]\n",
    "    goea_results_all = goeaobj.run_study(geneids_study)\n",
    "    goea_results_sig = [r for r in goea_results_all if r.p_fdr_bh < 0.05]\n",
    "    goeaobj.wr_xlsx('./write/' + 'all_tissues_droplet' + '_' + str(key) + '_vs_3m_' + \"GOEA_resultsFine_sig.xlsx\", goea_results_sig)    \n",
    "\n",
    "    goea_results_sig_dict[key] = goea_results_sig"
   ]
  },
  {
   "cell_type": "code",
   "execution_count": null,
   "metadata": {},
   "outputs": [],
   "source": [
    "go_names = [r.name for r in goea_results_sig]\n",
    "print(len(go_names)) # Includes ONLY signficant results"
   ]
  },
  {
   "cell_type": "code",
   "execution_count": null,
   "metadata": {},
   "outputs": [],
   "source": [
    "goid2goobj_all = {nt.GO:nt.goterm for nt in goea_results_all}\n",
    "print(len(goid2goobj_all))"
   ]
  },
  {
   "cell_type": "code",
   "execution_count": null,
   "metadata": {},
   "outputs": [],
   "source": [
    "import collections as cx\n",
    "word2cnt = cx.Counter([word for name in go_names for word in name.split()])\n",
    "print(word2cnt.most_common(10))"
   ]
  },
  {
   "cell_type": "code",
   "execution_count": null,
   "metadata": {},
   "outputs": [],
   "source": [
    "word2cnt"
   ]
  },
  {
   "cell_type": "code",
   "execution_count": null,
   "metadata": {},
   "outputs": [],
   "source": [
    "freq_seen = ['RNA', 'translation', 'mitochond', 'ribosomal', 'ribosome',\n",
    "             'adhesion', 'endoplasmic', 'nucleotide', 'apoptotic','apoptosis',\n",
    "             'inflammation','immune','MHC','senescence','aging','necrose',\n",
    "             'growth','differentiation', 'development']\n",
    "\n",
    "# freq_seen = ['adhesion','apoptotic','immune','MHC','growth','differentiation']\n",
    "\n",
    "# Collect significant GOs for words in freq_seen (unordered)\n",
    "word2siggos = cx.defaultdict(set)\n",
    "# Loop through manually curated words of interest\n",
    "for word in freq_seen:\n",
    "    # Check each significant GOEA result for the word of interest\n",
    "    for rec in goea_results_sig:\n",
    "        if word in rec.name:\n",
    "            word2siggos[word].add(rec.GO)\n",
    "# Sort word2gos to have the same order as words in freq_seen\n",
    "word2siggos = cx.OrderedDict([(w, word2siggos[w]) for w in freq_seen])"
   ]
  },
  {
   "cell_type": "code",
   "execution_count": null,
   "metadata": {},
   "outputs": [],
   "source": [
    "# Plot set of GOs for each frequently seen word\n",
    "from goatools.godag_plot import plot_goid2goobj\n",
    "for word, gos in word2siggos.items():\n",
    "    goid2goobj = {go:goid2goobj_all[go] for go in gos}\n",
    "    plot_goid2goobj(\n",
    "        \"./figures/go_terms_24m_vs_3m_word_{WORD}.png\".format(WORD=word),\n",
    "        goid2goobj, # source GOs to plot and their GOTerm object\n",
    "        study_items=15, # Max number of gene symbols to print in each GO term\n",
    "        id2symbol=geneid2symbol, # Contains GeneID-to-Symbol from Step 1\n",
    "        goea_results=goea_results_all, # pvals used for GO Term coloring\n",
    "        dpi=150)"
   ]
  },
  {
   "cell_type": "code",
   "execution_count": null,
   "metadata": {},
   "outputs": [],
   "source": [
    "fout = \"./figures/GO_24m_vs_3m_word_genes.txt\"\n",
    "go2res = {nt.GO:nt for nt in goea_results_all}\n",
    "with open(fout, \"w\") as prt:\n",
    "#     prt.write(\"\"\"This file is generated by test_nbt3102.py and is intended to confirm\n",
    "# this statement in the GOATOOLS manuscript:\n",
    "\n",
    "#         We observed:\n",
    "#             93 genes associated with RNA,\n",
    "#             47 genes associated with translation,\n",
    "#             70 genes associated with mitochondrial or mitochondrian, and\n",
    "#             37 genes associated with ribosomal, as reported by GOATOOLS.\n",
    "\n",
    "# \"\"\")\n",
    "    for word, gos in word2siggos.items():\n",
    "        # Sort first by BP, MF, CC. Sort second by GO id.\n",
    "        gos = sorted(gos, key=lambda go: [go2res[go].NS, go])\n",
    "        genes = set()\n",
    "        for go in gos:\n",
    "            genes |= go2res[go].study_items\n",
    "        genes = sorted([geneid2symbol[g] for g in genes])\n",
    "        prt.write(\"\\n{WD}: {N} study genes, {M} GOs\\n\".format(WD=word, N=len(genes), M=len(gos)))\n",
    "        prt.write(\"{WD} GOs: {GOs}\\n\".format(WD=word, GOs=\", \".join(gos)))\n",
    "        for i, go in enumerate(gos):\n",
    "            res = go2res[go]\n",
    "            prt.write(\"{I}) {NS} {GO} {NAME} ({N} genes)\\n\".format(\n",
    "                I=i, NS=res.NS, GO=go, NAME=res.name, N=res.study_count))\n",
    "        prt.write(\"{N} study genes:\\n\".format(N=len(genes)))\n",
    "        N = 10 # Number of genes per line\n",
    "        mult = [genes[i:i+N] for i in range(0, len(genes), N)]\n",
    "        prt.write(\"  {}\\n\".format(\"\\n  \".join([\", \".join(str(g) for g in sl) for sl in mult])))\n",
    "    print(\"  WROTE: {F}\\n\".format(F=fout))"
   ]
  },
  {
   "cell_type": "code",
   "execution_count": null,
   "metadata": {},
   "outputs": [],
   "source": [
    "import gseapy as gp"
   ]
  },
  {
   "cell_type": "code",
   "execution_count": null,
   "metadata": {
    "scrolled": false
   },
   "outputs": [],
   "source": [
    "names = list(gp.get_library_name())\n",
    "names"
   ]
  },
  {
   "cell_type": "code",
   "execution_count": null,
   "metadata": {},
   "outputs": [],
   "source": [
    "# run enrichr\n",
    "# if you are only intrested in dataframe that enrichr returned, please set no_plot=True\n",
    "\n",
    "# list, dataframe, series inputs are supported\n",
    "enr = gp.enrichr(gene_list=cluster_genes['24m'],\n",
    "                 # or gene_list='./gene_list.txt', or gene_list=glist\n",
    "                 description='24m vs 3m kegg',\n",
    "                 gene_sets='BioCarta_2016',\n",
    "                 outdir='./write/enrichr_' + '24m_vs_3m' + 'bioC',\n",
    "                 cutoff=0.5 # test dataset, use lower value of range(0,1)\n",
    "                )\n",
    "\n",
    "enr.res2d.head()"
   ]
  },
  {
   "cell_type": "code",
   "execution_count": null,
   "metadata": {},
   "outputs": [],
   "source": [
    "fig = gp.plot.barplot(enr.res2d, cutoff=0.05, figsize=(6.5, 6), top_term=10, color='salmon', title='24m vs 3m')\n",
    "fig.savefig('figures/enrichr_' + '24m_vs_3m' + 'bioC', bbox_inches='tight')"
   ]
  },
  {
   "cell_type": "markdown",
   "metadata": {},
   "source": [
    "### GSVA"
   ]
  },
  {
   "cell_type": "code",
   "execution_count": null,
   "metadata": {},
   "outputs": [],
   "source": [
    "import pandas as pd\n",
    "from GSVA import gsva, gmt_to_dataframe\n",
    "# Some extras to look at the high dimensional data\n",
    "from plotnine import *\n",
    "from sklearn.manifold import TSNE"
   ]
  },
  {
   "cell_type": "code",
   "execution_count": null,
   "metadata": {},
   "outputs": [],
   "source": [
    "genesets_df = gmt_to_dataframe('c2.all.v6.2.symbols.gmt')\n",
    "genesets_df.head()"
   ]
  },
  {
   "cell_type": "code",
   "execution_count": null,
   "metadata": {},
   "outputs": [],
   "source": [
    "result = adata.uns['rank_genes_groups']\n",
    "groups = result['names'].dtype.names\n",
    "expression_df = pd.DataFrame({group + '_' + key[:1]: result[key][group]\n",
    "    for group in groups for key in ['names', 'scores']})#.head(5)"
   ]
  },
  {
   "cell_type": "code",
   "execution_count": null,
   "metadata": {},
   "outputs": [],
   "source": [
    "expression_df.set_index('24m_n')\n",
    "expression_df.columns = ['symbol','z-score']"
   ]
  },
  {
   "cell_type": "code",
   "execution_count": null,
   "metadata": {},
   "outputs": [],
   "source": [
    "XV = TSNE(n_components=2).\\\n",
    "    fit_transform(expression_df.T)\n",
    "df = pd.DataFrame(XV).rename(columns={0:'x',1:'y'})\n",
    "(ggplot(df,aes(x='x',y='y'))\n",
    " + geom_point(alpha=0.2)\n",
    ")"
   ]
  },
  {
   "cell_type": "code",
   "execution_count": null,
   "metadata": {},
   "outputs": [],
   "source": [
    "pathways_df = gsva(expression_df,genesets_df)\n",
    "# pathways_df.iloc[0:5,0:5]\n"
   ]
  },
  {
   "cell_type": "code",
   "execution_count": null,
   "metadata": {},
   "outputs": [],
   "source": []
  }
 ],
 "metadata": {
  "kernelspec": {
   "display_name": "Python 3",
   "language": "python",
   "name": "python3"
  },
  "language_info": {
   "codemirror_mode": {
    "name": "ipython",
    "version": 3
   },
   "file_extension": ".py",
   "mimetype": "text/x-python",
   "name": "python",
   "nbconvert_exporter": "python",
   "pygments_lexer": "ipython3",
   "version": "3.6.5"
  }
 },
 "nbformat": 4,
 "nbformat_minor": 2
}
