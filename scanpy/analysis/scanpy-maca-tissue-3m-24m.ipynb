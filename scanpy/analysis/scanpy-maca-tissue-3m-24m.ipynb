{
 "cells": [
  {
   "cell_type": "markdown",
   "metadata": {},
   "source": [
    "### adapted from https://github.com/dpcook/fun_analysis/blob/master/tabula_muris/mouse_atlas_scanpy.ipynb\n",
    "### and https://nbviewer.jupyter.org/github/theislab/scanpy_usage/blob/master/170505_seurat/seurat.ipynb\n"
   ]
  },
  {
   "cell_type": "code",
   "execution_count": null,
   "metadata": {},
   "outputs": [],
   "source": [
    "import gc\n",
    "gc.collect()\n"
   ]
  },
  {
   "cell_type": "code",
   "execution_count": null,
   "metadata": {},
   "outputs": [],
   "source": [
    "import numpy as np\n",
    "import pandas as pd\n",
    "import csv\n",
    "import scanpy.api as sc\n",
    "from igraph import *\n",
    "from MulticoreTSNE import MulticoreTSNE as TSNE #faster TSNE alternative\n",
    "from anndata import read_h5ad\n",
    "sc.logging.print_versions()\n",
    "results_file = './write/maca.processed.h5ad'\n"
   ]
  },
  {
   "cell_type": "markdown",
   "metadata": {},
   "source": [
    "# Load data"
   ]
  },
  {
   "cell_type": "code",
   "execution_count": null,
   "metadata": {},
   "outputs": [],
   "source": [
    "adata = read_h5ad('./write/maca.h5ad')"
   ]
  },
  {
   "cell_type": "markdown",
   "metadata": {},
   "source": [
    "### 24 months"
   ]
  },
  {
   "cell_type": "code",
   "execution_count": null,
   "metadata": {},
   "outputs": [],
   "source": [
    "# males\n",
    "\n",
    "path = '/data/maca/data/MACA_24m_M_BAT_58/'\n",
    "adata_bat_24m_m_58 = sc.read(path + 'matrix.mtx', cache=True).transpose()\n",
    "adata_bat_24m_m_58.var_names = np.genfromtxt(path + 'genes.tsv', dtype=str)[:, 1]\n",
    "adata_bat_24m_m_58.obs_names = np.genfromtxt(path + 'barcodes.tsv', dtype=str)\n",
    "adata_bat_24m_m_58.obs['Tissue'] = 'Bat'\n",
    "adata_bat_24m_m_58.obs['Age'] = '24m'\n",
    "adata_bat_24m_m_58.obs['Sex'] = 'male'\n",
    "adata_bat_24m_m_58.obs['Cell'] = 'NA'\n",
    "sc.pp.filter_cells(adata_bat_24m_m_58, min_genes=250)\n",
    "\n",
    "path = '/data/maca/data/MACA_24m_M_BLADDER_58/'\n",
    "adata_bladder_24m_m_58 = sc.read(path + 'matrix.mtx', cache=True).transpose()\n",
    "adata_bladder_24m_m_58.var_names = np.genfromtxt(path + 'genes.tsv', dtype=str)[:, 1]\n",
    "adata_bladder_24m_m_58.obs_names = np.genfromtxt(path + 'barcodes.tsv', dtype=str)\n",
    "adata_bladder_24m_m_58.obs['Tissue'] = 'Bladder'\n",
    "adata_bladder_24m_m_58.obs['Age'] = '24m'\n",
    "adata_bladder_24m_m_58.obs['Sex'] = 'male'\n",
    "adata_bladder_24m_m_58.obs['Cell'] = 'NA'\n",
    "sc.pp.filter_cells(adata_bladder_24m_m_58, min_genes=250)\n",
    "\n",
    "path = '/data/maca/data/MACA_24m_M_BLADDER_59/'\n",
    "adata_bladder_24m_m_59 = sc.read(path + 'matrix.mtx', cache=True).transpose()\n",
    "adata_bladder_24m_m_59.var_names = np.genfromtxt(path + 'genes.tsv', dtype=str)[:, 1]\n",
    "adata_bladder_24m_m_59.obs_names = np.genfromtxt(path + 'barcodes.tsv', dtype=str)\n",
    "adata_bladder_24m_m_59.obs['Tissue'] = 'Bladder'\n",
    "adata_bladder_24m_m_59.obs['Age'] = '24m'\n",
    "adata_bladder_24m_m_59.obs['Sex'] = 'male'\n",
    "adata_bladder_24m_m_59.obs['Cell'] = 'NA'\n",
    "sc.pp.filter_cells(adata_bladder_24m_m_59, min_genes=250)\n",
    "\n",
    "path = '/data/maca/data/MACA_24m_M_BLADDER_60/'\n",
    "adata_bladder_24m_m_60 = sc.read(path + 'matrix.mtx', cache=True).transpose()\n",
    "adata_bladder_24m_m_60.var_names = np.genfromtxt(path + 'genes.tsv', dtype=str)[:, 1]\n",
    "adata_bladder_24m_m_60.obs_names = np.genfromtxt(path + 'barcodes.tsv', dtype=str)\n",
    "adata_bladder_24m_m_60.obs['Tissue'] = 'Bladder'\n",
    "adata_bladder_24m_m_60.obs['Age'] = '24m'\n",
    "adata_bladder_24m_m_60.obs['Sex'] = 'male'\n",
    "adata_bladder_24m_m_60.obs['Cell'] = 'NA'\n",
    "sc.pp.filter_cells(adata_bladder_24m_m_60, min_genes=250)\n",
    "\n",
    "path = '/data/maca/data/MACA_24m_M_BM_58/'\n",
    "adata_marrow_24m_m_58 = sc.read(path + 'matrix.mtx', cache=True).transpose()\n",
    "adata_marrow_24m_m_58.var_names = np.genfromtxt(path + 'genes.tsv', dtype=str)[:, 1]\n",
    "adata_marrow_24m_m_58.obs_names = np.genfromtxt(path + 'barcodes.tsv', dtype=str)\n",
    "adata_marrow_24m_m_58.obs['Tissue'] = 'Marrow'\n",
    "adata_marrow_24m_m_58.obs['Age'] = '24m'\n",
    "adata_marrow_24m_m_58.obs['Sex'] = 'male'\n",
    "adata_marrow_24m_m_58.obs['Cell'] = 'NA'\n",
    "sc.pp.filter_cells(adata_marrow_24m_m_58, min_genes=250)\n",
    "\n",
    "path = '/data/maca/data/MACA_24m_M_BM_59/'\n",
    "adata_marrow_24m_m_59 = sc.read(path + 'matrix.mtx', cache=True).transpose()\n",
    "adata_marrow_24m_m_59.var_names = np.genfromtxt(path + 'genes.tsv', dtype=str)[:, 1]\n",
    "adata_marrow_24m_m_59.obs_names = np.genfromtxt(path + 'barcodes.tsv', dtype=str)\n",
    "adata_marrow_24m_m_59.obs['Tissue'] = 'Marrow'\n",
    "adata_marrow_24m_m_59.obs['Age'] = '24m'\n",
    "adata_marrow_24m_m_59.obs['Sex'] = 'male'\n",
    "adata_marrow_24m_m_59.obs['Cell'] = 'NA'\n",
    "sc.pp.filter_cells(adata_marrow_24m_m_59, min_genes=250)\n",
    "\n",
    "path = '/data/maca/data/MACA_24m_M_BM_60/'\n",
    "adata_marrow_24m_m_60 = sc.read(path + 'matrix.mtx', cache=True).transpose()\n",
    "adata_marrow_24m_m_60.var_names = np.genfromtxt(path + 'genes.tsv', dtype=str)[:, 1]\n",
    "adata_marrow_24m_m_60.obs_names = np.genfromtxt(path + 'barcodes.tsv', dtype=str)\n",
    "adata_marrow_24m_m_60.obs['Tissue'] = 'Marrow'\n",
    "adata_marrow_24m_m_60.obs['Age'] = '24m'\n",
    "adata_marrow_24m_m_60.obs['Sex'] = 'male'\n",
    "adata_marrow_24m_m_60.obs['Cell'] = 'NA'\n",
    "sc.pp.filter_cells(adata_marrow_24m_m_60, min_genes=250)\n",
    "\n",
    "path = '/data/maca/data/MACA_24m_M_BM_61/'\n",
    "adata_marrow_24m_m_61 = sc.read(path + 'matrix.mtx', cache=True).transpose()\n",
    "adata_marrow_24m_m_61.var_names = np.genfromtxt(path + 'genes.tsv', dtype=str)[:, 1]\n",
    "adata_marrow_24m_m_61.obs_names = np.genfromtxt(path + 'barcodes.tsv', dtype=str)\n",
    "adata_marrow_24m_m_61.obs['Tissue'] = 'Marrow'\n",
    "adata_marrow_24m_m_61.obs['Age'] = '24m'\n",
    "adata_marrow_24m_m_61.obs['Sex'] = 'male'\n",
    "adata_marrow_24m_m_61.obs['Cell'] = 'NA'\n",
    "sc.pp.filter_cells(adata_marrow_24m_m_61, min_genes=250)\n",
    "\n",
    "path = '/data/maca/data/MACA_24m_M_GAT_58/'\n",
    "adata_gat_24m_m_58 = sc.read(path + 'matrix.mtx', cache=True).transpose()\n",
    "adata_gat_24m_m_58.var_names = np.genfromtxt(path + 'genes.tsv', dtype=str)[:, 1]\n",
    "adata_gat_24m_m_58.obs_names = np.genfromtxt(path + 'barcodes.tsv', dtype=str)\n",
    "adata_gat_24m_m_58.obs['Tissue'] = 'Gat'\n",
    "adata_gat_24m_m_58.obs['Age'] = '24m'\n",
    "adata_gat_24m_m_58.obs['Sex'] = 'male'\n",
    "adata_gat_24m_m_58.obs['Cell'] = 'NA'\n",
    "sc.pp.filter_cells(adata_gat_24m_m_58, min_genes=250)\n",
    "\n",
    "path = '/data/maca/data/MACA_24m_M_GAT_59/'\n",
    "adata_gat_24m_m_59 = sc.read(path + 'matrix.mtx', cache=True).transpose()\n",
    "adata_gat_24m_m_59.var_names = np.genfromtxt(path + 'genes.tsv', dtype=str)[:, 1]\n",
    "adata_gat_24m_m_59.obs_names = np.genfromtxt(path + 'barcodes.tsv', dtype=str)\n",
    "adata_gat_24m_m_59.obs['Tissue'] = 'Gat'\n",
    "adata_gat_24m_m_59.obs['Age'] = '24m'\n",
    "adata_gat_24m_m_59.obs['Sex'] = 'male'\n",
    "adata_gat_24m_m_59.obs['Cell'] = 'NA'\n",
    "sc.pp.filter_cells(adata_gat_24m_m_59, min_genes=250)\n",
    "\n",
    "path = '/data/maca/data/MACA_24m_M_HEART_58/'\n",
    "adata_heart_24m_m_58 = sc.read(path + 'matrix.mtx', cache=True).transpose()\n",
    "adata_heart_24m_m_58.var_names = np.genfromtxt(path + 'genes.tsv', dtype=str)[:, 1]\n",
    "adata_heart_24m_m_58.obs_names = np.genfromtxt(path + 'barcodes.tsv', dtype=str)\n",
    "adata_heart_24m_m_58.obs['Tissue'] = 'Heart'\n",
    "adata_heart_24m_m_58.obs['Age'] = '24m'\n",
    "adata_heart_24m_m_58.obs['Sex'] = 'male'\n",
    "adata_heart_24m_m_58.obs['Cell'] = 'NA'\n",
    "sc.pp.filter_cells(adata_heart_24m_m_58, min_genes=250)\n",
    "\n",
    "path = '/data/maca/data/MACA_24m_M_HEART_59/'\n",
    "adata_heart_24m_m_59 = sc.read(path + 'matrix.mtx', cache=True).transpose()\n",
    "adata_heart_24m_m_59.var_names = np.genfromtxt(path + 'genes.tsv', dtype=str)[:, 1]\n",
    "adata_heart_24m_m_59.obs_names = np.genfromtxt(path + 'barcodes.tsv', dtype=str)\n",
    "adata_heart_24m_m_59.obs['Tissue'] = 'Heart'\n",
    "adata_heart_24m_m_59.obs['Age'] = '24m'\n",
    "adata_heart_24m_m_59.obs['Sex'] = 'male'\n",
    "adata_heart_24m_m_59.obs['Cell'] = 'NA'\n",
    "sc.pp.filter_cells(adata_heart_24m_m_59, min_genes=250)\n",
    "\n",
    "path = '/data/maca/data/MACA_24m_M_HEART_60/'\n",
    "adata_heart_24m_m_60 = sc.read(path + 'matrix.mtx', cache=True).transpose()\n",
    "adata_heart_24m_m_60.var_names = np.genfromtxt(path + 'genes.tsv', dtype=str)[:, 1]\n",
    "adata_heart_24m_m_60.obs_names = np.genfromtxt(path + 'barcodes.tsv', dtype=str)\n",
    "adata_heart_24m_m_60.obs['Tissue'] = 'Heart'\n",
    "adata_heart_24m_m_60.obs['Age'] = '24m'\n",
    "adata_heart_24m_m_60.obs['Sex'] = 'male'\n",
    "adata_heart_24m_m_60.obs['Cell'] = 'NA'\n",
    "sc.pp.filter_cells(adata_heart_24m_m_60, min_genes=250)\n",
    "\n",
    "path = '/data/maca/data/MACA_24m_M_HEART_61/'\n",
    "adata_heart_24m_m_61 = sc.read(path + 'matrix.mtx', cache=True).transpose()\n",
    "adata_heart_24m_m_61.var_names = np.genfromtxt(path + 'genes.tsv', dtype=str)[:, 1]\n",
    "adata_heart_24m_m_61.obs_names = np.genfromtxt(path + 'barcodes.tsv', dtype=str)\n",
    "adata_heart_24m_m_61.obs['Tissue'] = 'Heart'\n",
    "adata_heart_24m_m_61.obs['Age'] = '24m'\n",
    "adata_heart_24m_m_61.obs['Sex'] = 'male'\n",
    "adata_heart_24m_m_61.obs['Cell'] = 'NA'\n",
    "sc.pp.filter_cells(adata_heart_24m_m_61, min_genes=250)\n",
    "\n",
    "path = '/data/maca/data/MACA_24m_M_HEPATOCYTES_58/'\n",
    "adata_hepatocytes_24m_m_58 = sc.read(path + 'matrix.mtx', cache=True).transpose()\n",
    "adata_hepatocytes_24m_m_58.var_names = np.genfromtxt(path + 'genes.tsv', dtype=str)[:, 1]\n",
    "adata_hepatocytes_24m_m_58.obs_names = np.genfromtxt(path + 'barcodes.tsv', dtype=str)\n",
    "adata_hepatocytes_24m_m_58.obs['Tissue'] = 'Hepatocytes'\n",
    "adata_hepatocytes_24m_m_58.obs['Age'] = '24m'\n",
    "adata_hepatocytes_24m_m_58.obs['Sex'] = 'male'\n",
    "adata_hepatocytes_24m_m_58.obs['Cell'] = 'NA'\n",
    "sc.pp.filter_cells(adata_hepatocytes_24m_m_58, min_genes=250)\n",
    "\n",
    "path = '/data/maca/data/MACA_24m_M_HEPATOCYTES_59/'\n",
    "adata_hepatocytes_24m_m_59 = sc.read(path + 'matrix.mtx', cache=True).transpose()\n",
    "adata_hepatocytes_24m_m_59.var_names = np.genfromtxt(path + 'genes.tsv', dtype=str)[:, 1]\n",
    "adata_hepatocytes_24m_m_59.obs_names = np.genfromtxt(path + 'barcodes.tsv', dtype=str)\n",
    "adata_hepatocytes_24m_m_59.obs['Tissue'] = 'Hepatocytes'\n",
    "adata_hepatocytes_24m_m_59.obs['Age'] = '24m'\n",
    "adata_hepatocytes_24m_m_59.obs['Sex'] = 'male'\n",
    "adata_hepatocytes_24m_m_59.obs['Cell'] = 'NA'\n",
    "sc.pp.filter_cells(adata_hepatocytes_24m_m_59, min_genes=250)\n",
    "\n",
    "path = '/data/maca/data/MACA_24m_M_KIDNEY_58/'\n",
    "adata_kidney_24m_m_58 = sc.read(path + 'matrix.mtx', cache=True).transpose()\n",
    "adata_kidney_24m_m_58.var_names = np.genfromtxt(path + 'genes.tsv', dtype=str)[:, 1]\n",
    "adata_kidney_24m_m_58.obs_names = np.genfromtxt(path + 'barcodes.tsv', dtype=str)\n",
    "adata_kidney_24m_m_58.obs['Tissue'] = 'Kidney'\n",
    "adata_kidney_24m_m_58.obs['Age'] = '24m'\n",
    "adata_kidney_24m_m_58.obs['Sex'] = 'male'\n",
    "adata_kidney_24m_m_58.obs['Cell'] = 'NA'\n",
    "sc.pp.filter_cells(adata_kidney_24m_m_58, min_genes=250)\n",
    "\n",
    "path = '/data/maca/data/MACA_24m_M_KIDNEY_59/'\n",
    "adata_kidney_24m_m_59 = sc.read(path + 'matrix.mtx', cache=True).transpose()\n",
    "adata_kidney_24m_m_59.var_names = np.genfromtxt(path + 'genes.tsv', dtype=str)[:, 1]\n",
    "adata_kidney_24m_m_59.obs_names = np.genfromtxt(path + 'barcodes.tsv', dtype=str)\n",
    "adata_kidney_24m_m_59.obs['Tissue'] = 'Kidney'\n",
    "adata_kidney_24m_m_59.obs['Age'] = '24m'\n",
    "adata_kidney_24m_m_59.obs['Sex'] = 'male'\n",
    "adata_kidney_24m_m_59.obs['Cell'] = 'NA'\n",
    "sc.pp.filter_cells(adata_kidney_24m_m_59, min_genes=250)\n",
    "\n",
    "path = '/data/maca/data/MACA_24m_M_KIDNEY_60/'\n",
    "adata_kidney_24m_m_60 = sc.read(path + 'matrix.mtx', cache=True).transpose()\n",
    "adata_kidney_24m_m_60.var_names = np.genfromtxt(path + 'genes.tsv', dtype=str)[:, 1]\n",
    "adata_kidney_24m_m_60.obs_names = np.genfromtxt(path + 'barcodes.tsv', dtype=str)\n",
    "adata_kidney_24m_m_60.obs['Tissue'] = 'Kidney'\n",
    "adata_kidney_24m_m_60.obs['Age'] = '24m'\n",
    "adata_kidney_24m_m_60.obs['Sex'] = 'male'\n",
    "adata_kidney_24m_m_60.obs['Cell'] = 'NA'\n",
    "sc.pp.filter_cells(adata_kidney_24m_m_60, min_genes=250)\n",
    "\n",
    "path = '/data/maca/data/MACA_24m_M_KIDNEY_61/'\n",
    "adata_kidney_24m_m_61 = sc.read(path + 'matrix.mtx', cache=True).transpose()\n",
    "adata_kidney_24m_m_61.var_names = np.genfromtxt(path + 'genes.tsv', dtype=str)[:, 1]\n",
    "adata_kidney_24m_m_61.obs_names = np.genfromtxt(path + 'barcodes.tsv', dtype=str)\n",
    "adata_kidney_24m_m_61.obs['Tissue'] = 'Kidney'\n",
    "adata_kidney_24m_m_61.obs['Age'] = '24m'\n",
    "adata_kidney_24m_m_61.obs['Sex'] = 'male'\n",
    "adata_kidney_24m_m_61.obs['Cell'] = 'NA'\n",
    "sc.pp.filter_cells(adata_kidney_24m_m_61, min_genes=250)\n",
    "\n",
    "path = '/data/maca/data/MACA_24m_M_LUNG_60/'\n",
    "adata_lung_24m_m_60 = sc.read(path + 'matrix.mtx', cache=True).transpose()\n",
    "adata_lung_24m_m_60.var_names = np.genfromtxt(path + 'genes.tsv', dtype=str)[:, 1]\n",
    "adata_lung_24m_m_60.obs_names = np.genfromtxt(path + 'barcodes.tsv', dtype=str)\n",
    "adata_lung_24m_m_60.obs['Tissue'] = 'Lung'\n",
    "adata_lung_24m_m_60.obs['Age'] = '24m'\n",
    "adata_lung_24m_m_60.obs['Sex'] = 'male'\n",
    "adata_lung_24m_m_60.obs['Cell'] = 'NA'\n",
    "sc.pp.filter_cells(adata_lung_24m_m_60, min_genes=250)\n",
    "\n",
    "path = '/data/maca/data/MACA_24m_M_LUNG_61/'\n",
    "adata_lung_24m_m_61 = sc.read(path + 'matrix.mtx', cache=True).transpose()\n",
    "adata_lung_24m_m_61.var_names = np.genfromtxt(path + 'genes.tsv', dtype=str)[:, 1]\n",
    "adata_lung_24m_m_61.obs_names = np.genfromtxt(path + 'barcodes.tsv', dtype=str)\n",
    "adata_lung_24m_m_61.obs['Tissue'] = 'Lung'\n",
    "adata_lung_24m_m_61.obs['Age'] = '24m'\n",
    "adata_lung_24m_m_61.obs['Sex'] = 'male'\n",
    "adata_lung_24m_m_61.obs['Cell'] = 'NA'\n",
    "sc.pp.filter_cells(adata_lung_24m_m_61, min_genes=250)\n",
    "\n",
    "path = '/data/maca/data/MACA_24m_M_MAT_58/'\n",
    "adata_mat_24m_m_58 = sc.read(path + 'matrix.mtx', cache=True).transpose()\n",
    "adata_mat_24m_m_58.var_names = np.genfromtxt(path + 'genes.tsv', dtype=str)[:, 1]\n",
    "adata_mat_24m_m_58.obs_names = np.genfromtxt(path + 'barcodes.tsv', dtype=str)\n",
    "adata_mat_24m_m_58.obs['Tissue'] = 'Mat'\n",
    "adata_mat_24m_m_58.obs['Age'] = '24m'\n",
    "adata_mat_24m_m_58.obs['Sex'] = 'male'\n",
    "adata_mat_24m_m_58.obs['Cell'] = 'NA'\n",
    "sc.pp.filter_cells(adata_mat_24m_m_58, min_genes=250)\n",
    "\n",
    "path = '/data/maca/data/MACA_24m_M_MAT_59/'\n",
    "adata_mat_24m_m_59 = sc.read(path + 'matrix.mtx', cache=True).transpose()\n",
    "adata_mat_24m_m_59.var_names = np.genfromtxt(path + 'genes.tsv', dtype=str)[:, 1]\n",
    "adata_mat_24m_m_59.obs_names = np.genfromtxt(path + 'barcodes.tsv', dtype=str)\n",
    "adata_mat_24m_m_59.obs['Tissue'] = 'Mat'\n",
    "adata_mat_24m_m_59.obs['Age'] = '24m'\n",
    "adata_mat_24m_m_59.obs['Sex'] = 'male'\n",
    "adata_mat_24m_m_59.obs['Cell'] = 'NA'\n",
    "sc.pp.filter_cells(adata_mat_24m_m_59, min_genes=250)\n",
    "\n",
    "path = '/data/maca/data/MACA_24m_M_MUSCLE_58/'\n",
    "adata_muscle_24m_m_58 = sc.read(path + 'matrix.mtx', cache=True).transpose()\n",
    "adata_muscle_24m_m_58.var_names = np.genfromtxt(path + 'genes.tsv', dtype=str)[:, 1]\n",
    "adata_muscle_24m_m_58.obs_names = np.genfromtxt(path + 'barcodes.tsv', dtype=str)\n",
    "adata_muscle_24m_m_58.obs['Tissue'] = 'Muscle'\n",
    "adata_muscle_24m_m_58.obs['Age'] = '24m'\n",
    "adata_muscle_24m_m_58.obs['Sex'] = 'male'\n",
    "adata_muscle_24m_m_58.obs['Cell'] = 'NA'\n",
    "sc.pp.filter_cells(adata_muscle_24m_m_58, min_genes=250)\n",
    "\n",
    "path = '/data/maca/data/MACA_24m_M_MUSCLE_59/'\n",
    "adata_muscle_24m_m_59 = sc.read(path + 'matrix.mtx', cache=True).transpose()\n",
    "adata_muscle_24m_m_59.var_names = np.genfromtxt(path + 'genes.tsv', dtype=str)[:, 1]\n",
    "adata_muscle_24m_m_59.obs_names = np.genfromtxt(path + 'barcodes.tsv', dtype=str)\n",
    "adata_muscle_24m_m_59.obs['Tissue'] = 'Muscle'\n",
    "adata_muscle_24m_m_59.obs['Age'] = '24m'\n",
    "adata_muscle_24m_m_59.obs['Sex'] = 'male'\n",
    "adata_muscle_24m_m_59.obs['Cell'] = 'NA'\n",
    "sc.pp.filter_cells(adata_muscle_24m_m_59, min_genes=250)\n",
    "\n",
    "path = '/data/maca/data/MACA_24m_M_MUSCLE_60/'\n",
    "adata_muscle_24m_m_60 = sc.read(path + 'matrix.mtx', cache=True).transpose()\n",
    "adata_muscle_24m_m_60.var_names = np.genfromtxt(path + 'genes.tsv', dtype=str)[:, 1]\n",
    "adata_muscle_24m_m_60.obs_names = np.genfromtxt(path + 'barcodes.tsv', dtype=str)\n",
    "adata_muscle_24m_m_60.obs['Tissue'] = 'Muscle'\n",
    "adata_muscle_24m_m_60.obs['Age'] = '24m'\n",
    "adata_muscle_24m_m_60.obs['Sex'] = 'male'\n",
    "adata_muscle_24m_m_60.obs['Cell'] = 'NA'\n",
    "sc.pp.filter_cells(adata_muscle_24m_m_60, min_genes=250)\n",
    "\n",
    "path = '/data/maca/data/MACA_24m_M_MUSCLE_61/'\n",
    "adata_muscle_24m_m_61 = sc.read(path + 'matrix.mtx', cache=True).transpose()\n",
    "adata_muscle_24m_m_61.var_names = np.genfromtxt(path + 'genes.tsv', dtype=str)[:, 1]\n",
    "adata_muscle_24m_m_61.obs_names = np.genfromtxt(path + 'barcodes.tsv', dtype=str)\n",
    "adata_muscle_24m_m_61.obs['Tissue'] = 'Muscle'\n",
    "adata_muscle_24m_m_61.obs['Age'] = '24m'\n",
    "adata_muscle_24m_m_61.obs['Sex'] = 'male'\n",
    "adata_muscle_24m_m_61.obs['Cell'] = 'NA'\n",
    "sc.pp.filter_cells(adata_muscle_24m_m_61, min_genes=250)\n",
    "\n",
    "path = '/data/maca/data/MACA_24m_M_PANCREASE_EXO_60/'\n",
    "adata_pancrease_exocrine_24m_m_60 = sc.read(path + 'matrix.mtx', cache=True).transpose()\n",
    "adata_pancrease_exocrine_24m_m_60.var_names = np.genfromtxt(path + 'genes.tsv', dtype=str)[:, 1]\n",
    "adata_pancrease_exocrine_24m_m_60.obs_names = np.genfromtxt(path + 'barcodes.tsv', dtype=str)\n",
    "adata_pancrease_exocrine_24m_m_60.obs['Tissue'] = 'Pancrease_exocrine'\n",
    "adata_pancrease_exocrine_24m_m_60.obs['Age'] = '24m'\n",
    "adata_pancrease_exocrine_24m_m_60.obs['Sex'] = 'male'\n",
    "adata_pancrease_exocrine_24m_m_60.obs['Cell'] = 'NA'\n",
    "sc.pp.filter_cells(adata_pancrease_exocrine_24m_m_60, min_genes=250)\n",
    "\n",
    "path = '/data/maca/data/MACA_24m_M_SCAT_58/'\n",
    "adata_scat_24m_m_58 = sc.read(path + 'matrix.mtx', cache=True).transpose()\n",
    "adata_scat_24m_m_58.var_names = np.genfromtxt(path + 'genes.tsv', dtype=str)[:, 1]\n",
    "adata_scat_24m_m_58.obs_names = np.genfromtxt(path + 'barcodes.tsv', dtype=str)\n",
    "adata_scat_24m_m_58.obs['Tissue'] = 'Scat'\n",
    "adata_scat_24m_m_58.obs['Age'] = '24m'\n",
    "adata_scat_24m_m_58.obs['Sex'] = 'male'\n",
    "adata_scat_24m_m_58.obs['Cell'] = 'NA'\n",
    "sc.pp.filter_cells(adata_scat_24m_m_58, min_genes=250)\n",
    "\n",
    "path = '/data/maca/data/MACA_24m_M_SPLEEN_58/'\n",
    "adata_spleen_24m_m_58 = sc.read(path + 'matrix.mtx', cache=True).transpose()\n",
    "adata_spleen_24m_m_58.var_names = np.genfromtxt(path + 'genes.tsv', dtype=str)[:, 1]\n",
    "adata_spleen_24m_m_58.obs_names = np.genfromtxt(path + 'barcodes.tsv', dtype=str)\n",
    "adata_spleen_24m_m_58.obs['Tissue'] = 'Spleen'\n",
    "adata_spleen_24m_m_58.obs['Age'] = '24m'\n",
    "adata_spleen_24m_m_58.obs['Sex'] = 'male'\n",
    "adata_spleen_24m_m_58.obs['Cell'] = 'NA'\n",
    "sc.pp.filter_cells(adata_spleen_24m_m_58, min_genes=250)\n",
    "\n",
    "path = '/data/maca/data/MACA_24m_M_SPLEEN_59/'\n",
    "adata_spleen_24m_m_59 = sc.read(path + 'matrix.mtx', cache=True).transpose()\n",
    "adata_spleen_24m_m_59.var_names = np.genfromtxt(path + 'genes.tsv', dtype=str)[:, 1]\n",
    "adata_spleen_24m_m_59.obs_names = np.genfromtxt(path + 'barcodes.tsv', dtype=str)\n",
    "adata_spleen_24m_m_59.obs['Tissue'] = 'Spleen'\n",
    "adata_spleen_24m_m_59.obs['Age'] = '24m'\n",
    "adata_spleen_24m_m_59.obs['Sex'] = 'male'\n",
    "adata_spleen_24m_m_59.obs['Cell'] = 'NA'\n",
    "sc.pp.filter_cells(adata_spleen_24m_m_59, min_genes=250)\n",
    "\n",
    "path = '/data/maca/data/MACA_24m_M_SPLEEN_60/'\n",
    "adata_spleen_24m_m_60 = sc.read(path + 'matrix.mtx', cache=True).transpose()\n",
    "adata_spleen_24m_m_60.var_names = np.genfromtxt(path + 'genes.tsv', dtype=str)[:, 1]\n",
    "adata_spleen_24m_m_60.obs_names = np.genfromtxt(path + 'barcodes.tsv', dtype=str)\n",
    "adata_spleen_24m_m_60.obs['Tissue'] = 'Spleen'\n",
    "adata_spleen_24m_m_60.obs['Age'] = '24m'\n",
    "adata_spleen_24m_m_60.obs['Sex'] = 'male'\n",
    "adata_spleen_24m_m_60.obs['Cell'] = 'NA'\n",
    "sc.pp.filter_cells(adata_spleen_24m_m_60, min_genes=250)\n",
    "\n",
    "path = '/data/maca/data/MACA_24m_M_SPLEEN_61/'\n",
    "adata_spleen_24m_m_61 = sc.read(path + 'matrix.mtx', cache=True).transpose()\n",
    "adata_spleen_24m_m_61.var_names = np.genfromtxt(path + 'genes.tsv', dtype=str)[:, 1]\n",
    "adata_spleen_24m_m_61.obs_names = np.genfromtxt(path + 'barcodes.tsv', dtype=str)\n",
    "adata_spleen_24m_m_61.obs['Tissue'] = 'Spleen'\n",
    "adata_spleen_24m_m_61.obs['Age'] = '24m'\n",
    "adata_spleen_24m_m_61.obs['Sex'] = 'male'\n",
    "adata_spleen_24m_m_61.obs['Cell'] = 'NA'\n",
    "sc.pp.filter_cells(adata_spleen_24m_m_61, min_genes=250)\n",
    "\n",
    "path = '/data/maca/data/MACA_24m_M_THYMUS_58/'\n",
    "adata_thymus_24m_m_58 = sc.read(path + 'matrix.mtx', cache=True).transpose()\n",
    "adata_thymus_24m_m_58.var_names = np.genfromtxt(path + 'genes.tsv', dtype=str)[:, 1]\n",
    "adata_thymus_24m_m_58.obs_names = np.genfromtxt(path + 'barcodes.tsv', dtype=str)\n",
    "adata_thymus_24m_m_58.obs['Tissue'] = 'Thymus'\n",
    "adata_thymus_24m_m_58.obs['Age'] = '24m'\n",
    "adata_thymus_24m_m_58.obs['Sex'] = 'male'\n",
    "adata_thymus_24m_m_58.obs['Cell'] = 'NA'\n",
    "sc.pp.filter_cells(adata_thymus_24m_m_58, min_genes=250)\n",
    "\n",
    "path = '/data/maca/data/MACA_24m_M_THYMUS_59/'\n",
    "adata_thymus_24m_m_59 = sc.read(path + 'matrix.mtx', cache=True).transpose()\n",
    "adata_thymus_24m_m_59.var_names = np.genfromtxt(path + 'genes.tsv', dtype=str)[:, 1]\n",
    "adata_thymus_24m_m_59.obs_names = np.genfromtxt(path + 'barcodes.tsv', dtype=str)\n",
    "adata_thymus_24m_m_59.obs['Tissue'] = 'Thymus'\n",
    "adata_thymus_24m_m_59.obs['Age'] = '24m'\n",
    "adata_thymus_24m_m_59.obs['Sex'] = 'male'\n",
    "adata_thymus_24m_m_59.obs['Cell'] = 'NA'\n",
    "sc.pp.filter_cells(adata_thymus_24m_m_59, min_genes=250)\n",
    "\n",
    "path = '/data/maca/data/MACA_24m_M_THYMUS_60/'\n",
    "adata_thymus_24m_m_60 = sc.read(path + 'matrix.mtx', cache=True).transpose()\n",
    "adata_thymus_24m_m_60.var_names = np.genfromtxt(path + 'genes.tsv', dtype=str)[:, 1]\n",
    "adata_thymus_24m_m_60.obs_names = np.genfromtxt(path + 'barcodes.tsv', dtype=str)\n",
    "adata_thymus_24m_m_60.obs['Tissue'] = 'Thymus'\n",
    "adata_thymus_24m_m_60.obs['Age'] = '24m'\n",
    "adata_thymus_24m_m_60.obs['Sex'] = 'male'\n",
    "adata_thymus_24m_m_60.obs['Cell'] = 'NA'\n",
    "sc.pp.filter_cells(adata_thymus_24m_m_60, min_genes=250)\n",
    "\n",
    "path = '/data/maca/data/MACA_24m_M_TONGUE_58/'\n",
    "adata_tongue_24m_m_58 = sc.read(path + 'matrix.mtx', cache=True).transpose()\n",
    "adata_tongue_24m_m_58.var_names = np.genfromtxt(path + 'genes.tsv', dtype=str)[:, 1]\n",
    "adata_tongue_24m_m_58.obs_names = np.genfromtxt(path + 'barcodes.tsv', dtype=str)\n",
    "adata_tongue_24m_m_58.obs['Tissue'] = 'Tongue'\n",
    "adata_tongue_24m_m_58.obs['Age'] = '24m'\n",
    "adata_tongue_24m_m_58.obs['Sex'] = 'male'\n",
    "adata_tongue_24m_m_58.obs['Cell'] = 'NA'\n",
    "sc.pp.filter_cells(adata_tongue_24m_m_58, min_genes=250)\n",
    "\n",
    "path = '/data/maca/data/MACA_24m_M_TONGUE_59/'\n",
    "adata_tongue_24m_m_59 = sc.read(path + 'matrix.mtx', cache=True).transpose()\n",
    "adata_tongue_24m_m_59.var_names = np.genfromtxt(path + 'genes.tsv', dtype=str)[:, 1]\n",
    "adata_tongue_24m_m_59.obs_names = np.genfromtxt(path + 'barcodes.tsv', dtype=str)\n",
    "adata_tongue_24m_m_59.obs['Tissue'] = 'Tongue'\n",
    "adata_tongue_24m_m_59.obs['Age'] = '24m'\n",
    "adata_tongue_24m_m_59.obs['Sex'] = 'male'\n",
    "adata_tongue_24m_m_59.obs['Cell'] = 'NA'\n",
    "sc.pp.filter_cells(adata_tongue_24m_m_59, min_genes=250)\n",
    "\n",
    "path = '/data/maca/data/MACA_24m_M_TONGUE_60/'\n",
    "adata_tongue_24m_m_60 = sc.read(path + 'matrix.mtx', cache=True).transpose()\n",
    "adata_tongue_24m_m_60.var_names = np.genfromtxt(path + 'genes.tsv', dtype=str)[:, 1]\n",
    "adata_tongue_24m_m_60.obs_names = np.genfromtxt(path + 'barcodes.tsv', dtype=str)\n",
    "adata_tongue_24m_m_60.obs['Tissue'] = 'Tongue'\n",
    "adata_tongue_24m_m_60.obs['Age'] = '24m'\n",
    "adata_tongue_24m_m_60.obs['Sex'] = 'male'\n",
    "adata_tongue_24m_m_60.obs['Cell'] = 'NA'\n",
    "sc.pp.filter_cells(adata_tongue_24m_m_60, min_genes=250)\n",
    "\n",
    "\n"
   ]
  },
  {
   "cell_type": "code",
   "execution_count": null,
   "metadata": {},
   "outputs": [],
   "source": [
    "adata24 = adata_bladder_24m_m_58.concatenate([adata_bladder_24m_m_59,\n",
    "                                       adata_bladder_24m_m_60,\n",
    "                                       adata_marrow_24m_m_58,\n",
    "                                       adata_marrow_24m_m_59,\n",
    "                                       adata_marrow_24m_m_60,\n",
    "                                       adata_marrow_24m_m_61,\n",
    "                                       adata_heart_24m_m_58,\n",
    "                                       adata_heart_24m_m_59,\n",
    "                                       adata_hepatocytes_24m_m_58,\n",
    "                                       adata_hepatocytes_24m_m_59,\n",
    "                                       adata_kidney_24m_m_58,\n",
    "                                       adata_kidney_24m_m_59,\n",
    "                                         adata_muscle_24m_m_58,\n",
    "                                          adata_muscle_24m_m_59,\n",
    "                                          adata_muscle_24m_m_60,\n",
    "                                          adata_muscle_24m_m_61,\n",
    "                                          adata_pancrease_exocrine_24m_m_60,\n",
    "                                          adata_spleen_24m_m_58,\n",
    "                                          adata_spleen_24m_m_59,\n",
    "                                          adata_thymus_24m_m_60,\n",
    "                                          adata_tongue_24m_m_58,\n",
    "                                          adata_tongue_24m_m_59,\n",
    "                                          adata_tongue_24m_m_60])\n",
    "\n",
    "adata24.obs[\"CellType\"]='NA'\n",
    "adata24"
   ]
  },
  {
   "cell_type": "markdown",
   "metadata": {},
   "source": [
    "### 3m"
   ]
  },
  {
   "cell_type": "code",
   "execution_count": null,
   "metadata": {},
   "outputs": [],
   "source": [
    "path = '/data/maca/data/10x/'\n",
    "maca10x3metadata = pd.read_csv('/data/maca/data/10x/MACA_10x.csv',usecols = ['channel','tissue','mouse.age','mouse.sex','pool'])\n",
    "maca10x3metadata2 = pd.read_csv('/data/maca/data/10x/TM_droplet_metadata.csv', low_memory=False)\n",
    "\n",
    "maca10x3metadata = maca10x3metadata.rename(columns = {'mouse.age':'age','mouse.sex':'sex'})\n",
    "#maca10x3metadata = maca10x3metadata[maca10x3metadata.age == 3]\n",
    "maca10x3metadata.index = range(len(maca10x3metadata))\n",
    "\n",
    "adata3aux = []\n",
    "for i in range(0,len(maca10x3metadata)):\n",
    "    #print(i)\n",
    "    path = '/data/maca/data/10x/' + maca10x3metadata.channel[i] + '/'\n",
    "    foo = sc.read(path + 'matrix.mtx', cache=True).transpose()\n",
    "    foo.var_names = np.genfromtxt(path + 'genes.tsv', dtype=str)[:, 1]\n",
    "    foo.obs_names = np.genfromtxt(path + 'barcodes.tsv', dtype=str)\n",
    "    foo.obs['Tissue'] = maca10x3metadata.tissue[i]\n",
    "    #foo.obs['subTissue'] = maca10x3metadata.subtissue[i]\n",
    "    foo.obs['Age'] = str(maca10x3metadata.age[i]) + 'm'\n",
    "    \n",
    "    if maca10x3metadata.sex[i] == 'M':\n",
    "        foo.obs['Sex'] = 'male'\n",
    "    else:\n",
    "        foo.obs['Sex'] = 'female'\n",
    "    sc.pp.filter_cells(foo, min_genes=250)\n",
    "    \n",
    "    foo.obs['Channel'] = maca10x3metadata.channel[i]# + foo.obs_names.split(\"-\")[0]\n",
    "    \n",
    "    foo.obs['CellType'] = 'NA' #maca10x3metadata.cell_ontology_class[i]\n",
    "    #foo.obs['CellTypeID'] = maca10x3metadata.cell_ontology_id[i]\n",
    "    #foo.obs['FreeAnn'] = maca10x3metadata.free_annotation[i]\n",
    "    \n",
    "    adata3aux.append(foo)\n",
    "    #print(adata3.X.size*8/1000000) # convert to Mb\n",
    "\n",
    "first = adata3aux.pop()\n",
    "adata3 = first.concatenate(adata3aux)\n",
    "adata3.obs['Cell'] = adata3.obs['Channel'] + '_' + adata3.obs_names\n",
    "adata3.obs['Cell'] = adata3.obs['Cell'].apply(lambda x: pd.Series(x.split('-')))[0]"
   ]
  },
  {
   "cell_type": "code",
   "execution_count": null,
   "metadata": {},
   "outputs": [],
   "source": [
    "adata = adata24.concatenate([adata3])\n"
   ]
  },
  {
   "cell_type": "markdown",
   "metadata": {},
   "source": [
    "# Preprocessing"
   ]
  },
  {
   "cell_type": "code",
   "execution_count": null,
   "metadata": {},
   "outputs": [],
   "source": [
    "sc.pp.filter_genes(adata, min_cells=5)\n",
    "sc.pp.filter_cells(adata, min_genes=250)"
   ]
  },
  {
   "cell_type": "code",
   "execution_count": null,
   "metadata": {},
   "outputs": [],
   "source": [
    "adata"
   ]
  },
  {
   "cell_type": "code",
   "execution_count": null,
   "metadata": {},
   "outputs": [],
   "source": [
    "# add the total counts per cell as observations-annotation to adata\n",
    "adata.obs['n_counts'] = np.sum(adata.X, axis=1).A1"
   ]
  },
  {
   "cell_type": "code",
   "execution_count": null,
   "metadata": {},
   "outputs": [],
   "source": [
    "adata"
   ]
  },
  {
   "cell_type": "code",
   "execution_count": null,
   "metadata": {},
   "outputs": [],
   "source": [
    "axs = sc.pl.violin(adata, ['n_genes', 'n_counts'],\n",
    "                   jitter=0.4, multi_panel=True)"
   ]
  },
  {
   "cell_type": "code",
   "execution_count": null,
   "metadata": {},
   "outputs": [],
   "source": [
    "ax = sc.pl.scatter(adata, x='n_counts', y='n_genes')"
   ]
  },
  {
   "cell_type": "code",
   "execution_count": null,
   "metadata": {},
   "outputs": [],
   "source": [
    "adata.raw = sc.pp.log1p(adata, copy=True) # freezes the state of the AnnData object returned by sc.pp.log1p\n",
    "sc.pp.normalize_per_cell(adata, counts_per_cell_after=1e4) #simple lib size normalization?"
   ]
  },
  {
   "cell_type": "code",
   "execution_count": null,
   "metadata": {},
   "outputs": [],
   "source": [
    "filter_result = sc.pp.filter_genes_dispersion(\n",
    "    adata.X, min_mean=0.0125, max_mean=10, min_disp=0.5)\n",
    "sc.pl.filter_genes_dispersion(filter_result)"
   ]
  },
  {
   "cell_type": "code",
   "execution_count": null,
   "metadata": {},
   "outputs": [],
   "source": [
    "adata = adata[:, filter_result.gene_subset]"
   ]
  },
  {
   "cell_type": "code",
   "execution_count": null,
   "metadata": {},
   "outputs": [],
   "source": [
    "sc.pp.log1p(adata)"
   ]
  },
  {
   "cell_type": "code",
   "execution_count": null,
   "metadata": {},
   "outputs": [],
   "source": [
    "sc.pp.scale(adata, max_value=10)"
   ]
  },
  {
   "cell_type": "code",
   "execution_count": null,
   "metadata": {},
   "outputs": [],
   "source": [
    "#adata.write(results_file)"
   ]
  },
  {
   "cell_type": "markdown",
   "metadata": {},
   "source": [
    "# Exploration\n"
   ]
  },
  {
   "cell_type": "markdown",
   "metadata": {},
   "source": [
    "## Choose a tissue"
   ]
  },
  {
   "cell_type": "code",
   "execution_count": null,
   "metadata": {},
   "outputs": [],
   "source": [
    "tissofinterest = \"Muscle\"\n",
    "tiss = adata[adata.obs['Tissue'] == tissofinterest,:]\n",
    "tiss2 = tiss.obs[tiss.obs['Age'] == '3m']\n",
    "tiss3 = tiss.obs[tiss.obs['Age'] == '24m']\n"
   ]
  },
  {
   "cell_type": "code",
   "execution_count": null,
   "metadata": {},
   "outputs": [],
   "source": [
    "tiss"
   ]
  },
  {
   "cell_type": "code",
   "execution_count": null,
   "metadata": {},
   "outputs": [],
   "source": [
    "tissaux = tiss2.append(tiss3)\n",
    "tiss = adata[adata.obs.index.isin(tissaux.index),:]"
   ]
  },
  {
   "cell_type": "code",
   "execution_count": null,
   "metadata": {},
   "outputs": [],
   "source": [
    "tiss"
   ]
  },
  {
   "cell_type": "code",
   "execution_count": null,
   "metadata": {},
   "outputs": [],
   "source": []
  },
  {
   "cell_type": "markdown",
   "metadata": {},
   "source": [
    "## PCA"
   ]
  },
  {
   "cell_type": "code",
   "execution_count": null,
   "metadata": {},
   "outputs": [],
   "source": [
    "sc.tl.pca(tiss)"
   ]
  },
  {
   "cell_type": "code",
   "execution_count": null,
   "metadata": {},
   "outputs": [],
   "source": [
    "tiss"
   ]
  },
  {
   "cell_type": "code",
   "execution_count": null,
   "metadata": {},
   "outputs": [],
   "source": [
    "ax = sc.pl.pca_scatter(tiss, color=['Tissue'], right_margin=0.5)"
   ]
  },
  {
   "cell_type": "code",
   "execution_count": null,
   "metadata": {},
   "outputs": [],
   "source": [
    "ax = sc.pl.pca_scatter(tiss, color=['Age'], right_margin=0.5)"
   ]
  },
  {
   "cell_type": "code",
   "execution_count": null,
   "metadata": {},
   "outputs": [],
   "source": [
    "ax = sc.pl.pca_scatter(tiss, color=['Sex'], right_margin=0.5)"
   ]
  },
  {
   "cell_type": "code",
   "execution_count": null,
   "metadata": {},
   "outputs": [],
   "source": [
    "ax = sc.pl.pca_scatter(tiss, color='n_counts', right_margin=0.5)"
   ]
  },
  {
   "cell_type": "code",
   "execution_count": null,
   "metadata": {},
   "outputs": [],
   "source": [
    "sc.pl.pca_variance_ratio(tiss, log=True)"
   ]
  },
  {
   "cell_type": "markdown",
   "metadata": {},
   "source": [
    "## Louvain clustering"
   ]
  },
  {
   "cell_type": "code",
   "execution_count": null,
   "metadata": {},
   "outputs": [],
   "source": [
    "sc.pp.neighbors(tiss, n_neighbors=15)#, method='gauss')\n",
    "sc.tl.louvain(tiss, resolution = 0.2)"
   ]
  },
  {
   "cell_type": "code",
   "execution_count": null,
   "metadata": {},
   "outputs": [],
   "source": [
    "tiss"
   ]
  },
  {
   "cell_type": "markdown",
   "metadata": {},
   "source": [
    "## UMAP"
   ]
  },
  {
   "cell_type": "code",
   "execution_count": null,
   "metadata": {},
   "outputs": [],
   "source": [
    "sc.tl.umap(tiss)"
   ]
  },
  {
   "cell_type": "code",
   "execution_count": null,
   "metadata": {},
   "outputs": [],
   "source": [
    "sc.settings.set_figure_params(dpi=200)\n",
    "sc.pl.umap(tiss, color=['Tissue'], right_margin=0.5)"
   ]
  },
  {
   "cell_type": "code",
   "execution_count": null,
   "metadata": {},
   "outputs": [],
   "source": [
    "sc.settings.set_figure_params(dpi=200)\n",
    "sc.pl.umap(tiss, color=['louvain'], right_margin=0.5)"
   ]
  },
  {
   "cell_type": "code",
   "execution_count": null,
   "metadata": {},
   "outputs": [],
   "source": [
    "sc.settings.set_figure_params(dpi=200)\n",
    "sc.pl.umap(tiss, color=['Age'], right_margin=0.5)"
   ]
  },
  {
   "cell_type": "markdown",
   "metadata": {},
   "source": [
    "## tSNE"
   ]
  },
  {
   "cell_type": "code",
   "execution_count": null,
   "metadata": {},
   "outputs": [],
   "source": [
    "sc.tl.tsne(tiss, perplexity=50)"
   ]
  },
  {
   "cell_type": "code",
   "execution_count": null,
   "metadata": {},
   "outputs": [],
   "source": [
    "sc.settings.set_figure_params(dpi=200)\n",
    "sc.pl.tsne(tiss, color=['Tissue'], right_margin=0.5)"
   ]
  },
  {
   "cell_type": "code",
   "execution_count": null,
   "metadata": {},
   "outputs": [],
   "source": [
    "sc.pl.tsne(tiss, color=['Sex'], right_margin=0.5)"
   ]
  },
  {
   "cell_type": "code",
   "execution_count": null,
   "metadata": {},
   "outputs": [],
   "source": [
    "sc.pl.tsne(tiss, color=['Age'], right_margin=0.5)"
   ]
  },
  {
   "cell_type": "code",
   "execution_count": null,
   "metadata": {},
   "outputs": [],
   "source": [
    "sc.pl.tsne(tiss, color=['louvain'],right_margin=0.5)"
   ]
  },
  {
   "cell_type": "markdown",
   "metadata": {},
   "source": [
    "## read the annotations from tabula muris"
   ]
  },
  {
   "cell_type": "code",
   "execution_count": null,
   "metadata": {},
   "outputs": [],
   "source": [
    "maca10x3metadata2 = pd.read_csv('/data/maca/data/10x/TM_droplet_metadata.csv', low_memory=False)\n",
    "maca10x3metadata2 = maca10x3metadata2.rename(columns = {'cell':'Cell'})\n",
    "len(maca10x3metadata2)"
   ]
  },
  {
   "cell_type": "code",
   "execution_count": null,
   "metadata": {},
   "outputs": [],
   "source": [
    "ageofinterest = \"3m\"\n",
    "tissage = tiss[tiss.obs['Age'] == ageofinterest,:]\n",
    "tissage"
   ]
  },
  {
   "cell_type": "code",
   "execution_count": null,
   "metadata": {},
   "outputs": [],
   "source": [
    "tissage.obs.head()"
   ]
  },
  {
   "cell_type": "code",
   "execution_count": null,
   "metadata": {},
   "outputs": [],
   "source": [
    "maca10x3metadata2.head()"
   ]
  },
  {
   "cell_type": "code",
   "execution_count": null,
   "metadata": {},
   "outputs": [],
   "source": [
    "merged_inner = pd.merge(left=tissage.obs,right=maca10x3metadata2, left_on='Cell', right_on='Cell')\n",
    "#merged_inner = merged_inner[['Age','Cell','Channel','Sex','Tissue','batch','n_genes','n_counts','cell_ontology_class','free_annotation']]\n",
    "merged_inner.head()"
   ]
  },
  {
   "cell_type": "code",
   "execution_count": null,
   "metadata": {},
   "outputs": [],
   "source": [
    "tissage.obs[\"cell_ontology_class\"] = merged_inner[\"cell_ontology_class\"]\n",
    "tissage.obs[\"free_annotation\"] = merged_inner[\"free_annotation\"]\n",
    "tissage.obs"
   ]
  },
  {
   "cell_type": "code",
   "execution_count": null,
   "metadata": {},
   "outputs": [],
   "source": [
    "tissage.obs = tissage.obs.reset_index()"
   ]
  },
  {
   "cell_type": "code",
   "execution_count": null,
   "metadata": {},
   "outputs": [],
   "source": [
    "tissage.obs[\"cell_ontology_class\"] = merged_inner[\"cell_ontology_class\"]\n",
    "tissage.obs[\"free_annotation\"] = merged_inner[\"free_annotation\"]\n",
    "tissage.obs"
   ]
  },
  {
   "cell_type": "code",
   "execution_count": null,
   "metadata": {},
   "outputs": [],
   "source": [
    "tissage.obs.head()"
   ]
  },
  {
   "cell_type": "code",
   "execution_count": null,
   "metadata": {},
   "outputs": [],
   "source": [
    "#sc.tl.pca(tissage)\n",
    "#sc.pp.neighbors(tissage, n_neighbors=15)#, method='gauss')\n",
    "#sc.tl.louvain(tissage, resolution = 0.3)\n",
    "#sc.tl.tsne(tissage, perplexity=50)"
   ]
  },
  {
   "cell_type": "code",
   "execution_count": null,
   "metadata": {},
   "outputs": [],
   "source": [
    "sc.pl.tsne(tissage, color=['louvain'],right_margin=0.5)"
   ]
  },
  {
   "cell_type": "code",
   "execution_count": null,
   "metadata": {},
   "outputs": [],
   "source": [
    "sc.pl.tsne(tissage, color=['cell_ontology_class'],right_margin=0.5)"
   ]
  },
  {
   "cell_type": "code",
   "execution_count": null,
   "metadata": {},
   "outputs": [],
   "source": [
    "sc.pl.tsne(tissage, color=['free_annotation'],right_margin=0.5)"
   ]
  },
  {
   "cell_type": "code",
   "execution_count": null,
   "metadata": {},
   "outputs": [],
   "source": [
    "df = tissage.obs[tissage.obs['louvain'].str.match('2')]['cell_ontology_class']\n",
    "df.reset_index()\n",
    "df = df.reset_index()\n",
    "display(df.groupby('cell_ontology_class').count())\n",
    "display(df.groupby('cell_ontology_class').count().sum())\n",
    "display(df.groupby('cell_ontology_class').count()/df.groupby('cell_ontology_class').count().sum())\n",
    "dfaux = df.groupby('cell_ontology_class').count()/df.groupby('cell_ontology_class').count().sum()\n",
    "dfaux.reset_index()\n",
    "dfaux = dfaux.reset_index()\n",
    "display(dfaux[dfaux['index']>0.95][['cell_ontology_class']])\n",
    "#dfdf.sum()\n",
    "#df.drop_duplicates()\n",
    "#tissage.obs['louvain']\n",
    "#val = dfaux[dfaux['index']>0.95][['cell_ontology_class']].values[0]\n",
    "#print(val)"
   ]
  },
  {
   "cell_type": "code",
   "execution_count": null,
   "metadata": {},
   "outputs": [],
   "source": [
    "tiss_cell_ontology_class = {}\n",
    "for i in range(0,tissage.obs['louvain'].nunique()):\n",
    "    df = tissage.obs[tissage.obs['louvain'].str.match(str(i))]['cell_ontology_class']\n",
    "    df.reset_index()\n",
    "    df = df.reset_index()\n",
    "    #df.groupby('cell_ontology_class').count()\n",
    "    #df.groupby('cell_ontology_class').count().sum()\n",
    "    #df.groupby('cell_ontology_class').count()/df.groupby('cell_ontology_class').count().sum()\n",
    "    dfaux = df.groupby('cell_ontology_class').count()/df.groupby('cell_ontology_class').count().sum()\n",
    "    dfaux.reset_index()\n",
    "    dfaux = dfaux.reset_index()\n",
    "    #display(dfaux[dfaux['index']>0.95][['cell_ontology_class']])\n",
    "    #dfdfaux = pd.concat([dfdfaux,dfaux[dfaux['index']>0.95][['cell_ontology_class']]])\n",
    "    a = dfaux[dfaux['index']>0.95][['cell_ontology_class']]\n",
    "    if a.empty:\n",
    "        tiss_cell_ontology_class[i] = 'tbc'\n",
    "    else:\n",
    "        tiss_cell_ontology_class[i] = a.values[0]\n",
    "\n",
    "tiss_cell_ontology_class\n",
    "\n"
   ]
  },
  {
   "cell_type": "code",
   "execution_count": null,
   "metadata": {},
   "outputs": [],
   "source": [
    "outfile = open('dict.txt', 'w' )\n",
    "for key, value in sorted( mydict.items() ):\n",
    "    outfile.write( str(key) + '\\t' + str(value) + '\\n' )"
   ]
  },
  {
   "cell_type": "code",
   "execution_count": null,
   "metadata": {},
   "outputs": [],
   "source": [
    "tiss.obs['louvain'] = tiss.obs['louvain'].apply(pd.to_numeric)\n",
    "tiss.obs['cell_ontology_class'] = tiss.obs['louvain'].map(tiss_cell_ontology_class)\n",
    "tiss.obs"
   ]
  },
  {
   "cell_type": "code",
   "execution_count": null,
   "metadata": {},
   "outputs": [],
   "source": [
    "sc.pl.tsne(tiss, color=['louvain'],right_margin=0.5)"
   ]
  },
  {
   "cell_type": "code",
   "execution_count": null,
   "metadata": {},
   "outputs": [],
   "source": [
    "sc.pl.tsne(tiss, color=['cell_ontology_class'],right_margin=0.5)"
   ]
  },
  {
   "cell_type": "code",
   "execution_count": null,
   "metadata": {},
   "outputs": [],
   "source": [
    "sc.pl.umap(tiss, color=['cell_ontology_class'],right_margin=0.5)"
   ]
  },
  {
   "cell_type": "markdown",
   "metadata": {},
   "source": [
    "## finding marker genes"
   ]
  },
  {
   "cell_type": "code",
   "execution_count": null,
   "metadata": {},
   "outputs": [],
   "source": [
    "sc.tl.rank_genes_groups(tiss, 'louvain')\n",
    "sc.pl.rank_genes_groups(tiss, n_genes=20, save='louvain_clusters_top_genes.pdf')\n",
    "#adata.write(results_file)"
   ]
  },
  {
   "cell_type": "code",
   "execution_count": null,
   "metadata": {},
   "outputs": [],
   "source": [
    "sc.pl.rank_genes_groups_violin(tiss, n_genes=8, groups=['1'])"
   ]
  },
  {
   "cell_type": "code",
   "execution_count": null,
   "metadata": {},
   "outputs": [],
   "source": [
    "sc.tl.rank_genes_groups(tiss, 'louvain', method='logreg')\n",
    "sc.pl.rank_genes_groups(tiss, n_genes=20)"
   ]
  },
  {
   "cell_type": "markdown",
   "metadata": {},
   "source": [
    "### Show the 10 top ranked genes per cluster in a dataframe."
   ]
  },
  {
   "cell_type": "code",
   "execution_count": null,
   "metadata": {},
   "outputs": [],
   "source": [
    "pd.DataFrame(tiss.uns['rank_genes_groups']['names']).head(10)"
   ]
  },
  {
   "cell_type": "markdown",
   "metadata": {},
   "source": [
    "### Get a table with scores and groups.\n",
    "\n"
   ]
  },
  {
   "cell_type": "code",
   "execution_count": null,
   "metadata": {},
   "outputs": [],
   "source": [
    "result = tiss.uns['rank_genes_groups']\n",
    "groups = result['names'].dtype.names\n",
    "pd.DataFrame({group + '_' + key[:1]: result[key][group]\n",
    "    for group in groups for key in ['names', 'scores']}).head(5)"
   ]
  },
  {
   "cell_type": "code",
   "execution_count": null,
   "metadata": {},
   "outputs": [],
   "source": [
    "sc.pl.violin(tiss, ['Cdkn2a','Myoc','Gpx3'],groupby='Age', rotation=90)#, save='.pdf')\n"
   ]
  },
  {
   "cell_type": "code",
   "execution_count": null,
   "metadata": {},
   "outputs": [],
   "source": [
    "sc.tl.rank_genes_groups(tiss, 'cell_ontology_class')\n",
    "sc.pl.rank_genes_groups(tiss, n_genes=20, save='cell_types_top_genes.pdf')"
   ]
  },
  {
   "cell_type": "markdown",
   "metadata": {},
   "source": [
    "### subset for cell ontology"
   ]
  },
  {
   "cell_type": "code",
   "execution_count": null,
   "metadata": {},
   "outputs": [],
   "source": [
    "tiss.obs[tiss.obs['cell_ontology_class'] == tiss.obs['cell_ontology_class'][1]].head()"
   ]
  },
  {
   "cell_type": "code",
   "execution_count": null,
   "metadata": {},
   "outputs": [],
   "source": [
    "subtiss = tiss[tiss.obs['cell_ontology_class'] == tiss.obs['cell_ontology_class'][3],:]\n",
    "sc.tl.rank_genes_groups(subtiss, 'Age', groups=['24m'], reference='3m')#, method='logreg')\n",
    "sc.pl.rank_genes_groups(subtiss, n_genes=20, groups=['24m'], save='subtiss_louvain_clusters_top_genes.pdf')"
   ]
  },
  {
   "cell_type": "markdown",
   "metadata": {},
   "source": [
    "## Force-directed graph"
   ]
  },
  {
   "cell_type": "code",
   "execution_count": null,
   "metadata": {},
   "outputs": [],
   "source": [
    "sc.tl.draw_graph(adata) # be patient here..."
   ]
  },
  {
   "cell_type": "code",
   "execution_count": null,
   "metadata": {},
   "outputs": [],
   "source": [
    "sc.pl.draw_graph(adata, color=['Tissue'])"
   ]
  },
  {
   "cell_type": "code",
   "execution_count": null,
   "metadata": {},
   "outputs": [],
   "source": [
    "sc.pl.draw_graph(adata, color=['Age'])"
   ]
  },
  {
   "cell_type": "code",
   "execution_count": null,
   "metadata": {},
   "outputs": [],
   "source": [
    "sc.pl.draw_graph(adata, color=['Sex'])"
   ]
  },
  {
   "cell_type": "code",
   "execution_count": null,
   "metadata": {},
   "outputs": [],
   "source": [
    "sc.pl.draw_graph(adata, color=['louvain'])"
   ]
  },
  {
   "cell_type": "markdown",
   "metadata": {},
   "source": [
    "# Pseudotime analysis"
   ]
  },
  {
   "cell_type": "code",
   "execution_count": null,
   "metadata": {},
   "outputs": [],
   "source": [
    "sc.pp.neighbors(adata)\n"
   ]
  },
  {
   "cell_type": "code",
   "execution_count": null,
   "metadata": {},
   "outputs": [],
   "source": [
    "sc.tl.diffmap(adata)"
   ]
  },
  {
   "cell_type": "code",
   "execution_count": null,
   "metadata": {},
   "outputs": [],
   "source": [
    "sc.tl.dpt(adata, n_branchings=1)"
   ]
  },
  {
   "cell_type": "code",
   "execution_count": null,
   "metadata": {},
   "outputs": [],
   "source": [
    "#sc.pl.diffmap(adata, color=['dpt_pseudotime', 'dpt_groups', 'age'])"
   ]
  },
  {
   "cell_type": "code",
   "execution_count": null,
   "metadata": {},
   "outputs": [],
   "source": [
    "#sc.pl.diffmap(adata, color=['dpt_pseudotime'])"
   ]
  },
  {
   "cell_type": "code",
   "execution_count": null,
   "metadata": {},
   "outputs": [],
   "source": [
    "#sc.pl.diffmap(adata, color=['dpt_groups'])"
   ]
  },
  {
   "cell_type": "code",
   "execution_count": null,
   "metadata": {},
   "outputs": [],
   "source": [
    "#sc.pl.diffmap(adata, color=['Age'])"
   ]
  },
  {
   "cell_type": "markdown",
   "metadata": {},
   "source": [
    "# Save processed data"
   ]
  },
  {
   "cell_type": "code",
   "execution_count": null,
   "metadata": {},
   "outputs": [],
   "source": [
    "adata.write('./write/maca.processed.h5ad')"
   ]
  },
  {
   "cell_type": "code",
   "execution_count": null,
   "metadata": {},
   "outputs": [],
   "source": []
  }
 ],
 "metadata": {
  "kernelspec": {
   "display_name": "Python 3",
   "language": "python",
   "name": "python3"
  },
  "language_info": {
   "codemirror_mode": {
    "name": "ipython",
    "version": 3
   },
   "file_extension": ".py",
   "mimetype": "text/x-python",
   "name": "python",
   "nbconvert_exporter": "python",
   "pygments_lexer": "ipython3",
   "version": "3.6.5"
  }
 },
 "nbformat": 4,
 "nbformat_minor": 2
}
