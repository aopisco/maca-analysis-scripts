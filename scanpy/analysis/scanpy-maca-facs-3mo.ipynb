{
 "cells": [
  {
   "cell_type": "code",
   "execution_count": 1,
   "metadata": {},
   "outputs": [
    {
     "name": "stderr",
     "output_type": "stream",
     "text": [
      "/home/ubuntu/anaconda3/lib/python3.6/site-packages/h5py/__init__.py:36: FutureWarning: Conversion of the second argument of issubdtype from `float` to `np.floating` is deprecated. In future, it will be treated as `np.float64 == np.dtype(float).type`.\n",
      "  from ._conv import register_converters as _register_converters\n"
     ]
    },
    {
     "name": "stdout",
     "output_type": "stream",
     "text": [
      "scanpy==1.3.1 anndata==0.6.10 numpy==1.14.3 scipy==1.1.0 pandas==0.23.0 scikit-learn==0.19.1 statsmodels==0.9.0 python-igraph==0.7.1 louvain==0.6.1 \n"
     ]
    }
   ],
   "source": [
    "import numpy as np\n",
    "import pandas as pd\n",
    "import matplotlib.pyplot as plt\n",
    "import csv\n",
    "import scanpy.api as sc\n",
    "from igraph import *\n",
    "from MulticoreTSNE import MulticoreTSNE as TSNE #faster TSNE alternative\n",
    "from anndata import read_h5ad\n",
    "import dill # for saving everything\n",
    "\n",
    "sc.logging.print_versions()"
   ]
  },
  {
   "cell_type": "markdown",
   "metadata": {},
   "source": [
    "# Load data"
   ]
  },
  {
   "cell_type": "markdown",
   "metadata": {},
   "source": [
    "## 18, 21 and 24 months"
   ]
  },
  {
   "cell_type": "code",
   "execution_count": null,
   "metadata": {},
   "outputs": [],
   "source": [
    "path = '/data/maca/data/'\n",
    "maca10x182124metadata = pd.read_csv('/data/maca/data/MACA_10x_18-21-24_qc.csv',usecols = ['channel','tissue','tissue.notes','mouse.age','mouse.sex'])\n",
    "\n",
    "maca10x182124metadata = maca10x182124metadata.rename(columns = {'mouse.age':'age','mouse.sex':'sex','tissue.notes':'subtissue'})\n",
    "maca10x182124metadata.index = range(len(maca10x182124metadata))"
   ]
  },
  {
   "cell_type": "code",
   "execution_count": null,
   "metadata": {},
   "outputs": [],
   "source": [
    "maca10x182124metadata.head()\n",
    "#len(maca10x182124metadata)"
   ]
  },
  {
   "cell_type": "code",
   "execution_count": null,
   "metadata": {},
   "outputs": [],
   "source": [
    "adata182124aux = []\n",
    "for i in range(0,len(maca10x182124metadata)):\n",
    "    path = '/data/maca/data/' + maca10x182124metadata.channel[i] + '/'\n",
    "    foo = sc.read(path + 'matrix.mtx', cache=True).transpose()\n",
    "    foo.var_names = np.genfromtxt(path + 'genes.tsv', dtype=str)[:, 1]\n",
    "    foo.obs_names = np.genfromtxt(path + 'barcodes.tsv', dtype=str)\n",
    "    foo.obs['tissue'] = str(maca10x182124metadata.tissue[i]).title()\n",
    "    #foo.obs['subTissue'] = str(maca10x182124metadata.subtissue[i]).title()\n",
    "    \n",
    "    \n",
    "    if pd.isnull(maca10x182124metadata.subtissue[i]):\n",
    "        foo.obs['subtissue'] = maca10x182124metadata.subtissue[i]\n",
    "    else:        \n",
    "        foo.obs['subtissue'] = str(maca10x182124metadata.subtissue[i]).title()\n",
    "        \n",
    "    \n",
    "    foo.obs['age'] = str(maca10x182124metadata.age[i]) + 'm'\n",
    "    \n",
    "    if maca10x182124metadata.sex[i] == 'M':\n",
    "        foo.obs['sex'] = 'male'\n",
    "    else:\n",
    "        foo.obs['sex'] = 'female'\n",
    "    \n",
    "    if maca10x182124metadata.tissue[i] == 'MUSCLE':\n",
    "        foo.obs['tissue'] = 'Limb_Muscle'\n",
    "        \n",
    "    sc.pp.filter_cells(foo, min_genes=250)\n",
    "    \n",
    "    foo.obs['channel'] = maca10x182124metadata.channel[i]# + foo.obs_names.split(\"-\")[0]\n",
    "    \n",
    "    foo.obs['cell_ontology_class'] = 'NA' #maca10x3metadata.cell_ontology_class[i]\n",
    "    #foo.obs['CellTypeID'] = maca10x3metadata.cell_ontology_id[i]\n",
    "    #foo.obs['FreeAnn'] = maca10x3metadata.free_annotation[i]\n",
    "    \n",
    "    adata182124aux.append(foo)\n",
    "    #print(adata3.X.size*8/1000000) # convert to Mb\n",
    "\n",
    "\n",
    "first = adata182124aux.pop()\n",
    "adata182124 = first.concatenate(adata182124aux)\n",
    "adata182124.obs['cell'] = adata182124.obs['channel'] + '_' + adata182124.obs_names\n",
    "adata182124.obs['cell'] = adata182124.obs['cell'].apply(lambda x: pd.Series(x.split('-')))[0]\n",
    "adata182124.obs['method'] = 'droplet'\n",
    "\n",
    "adata182124.obs.head()"
   ]
  },
  {
   "cell_type": "code",
   "execution_count": null,
   "metadata": {},
   "outputs": [],
   "source": [
    "set(adata182124.obs['tissue'])\n"
   ]
  },
  {
   "cell_type": "markdown",
   "metadata": {},
   "source": [
    "## 3months"
   ]
  },
  {
   "cell_type": "code",
   "execution_count": 2,
   "metadata": {},
   "outputs": [
    {
     "data": {
      "text/html": [
       "<div>\n",
       "<style scoped>\n",
       "    .dataframe tbody tr th:only-of-type {\n",
       "        vertical-align: middle;\n",
       "    }\n",
       "\n",
       "    .dataframe tbody tr th {\n",
       "        vertical-align: top;\n",
       "    }\n",
       "\n",
       "    .dataframe thead th {\n",
       "        text-align: right;\n",
       "    }\n",
       "</style>\n",
       "<table border=\"1\" class=\"dataframe\">\n",
       "  <thead>\n",
       "    <tr style=\"text-align: right;\">\n",
       "      <th></th>\n",
       "      <th>channel</th>\n",
       "      <th>tissue</th>\n",
       "      <th>subtissue</th>\n",
       "      <th>age</th>\n",
       "      <th>sex</th>\n",
       "      <th>pool</th>\n",
       "    </tr>\n",
       "  </thead>\n",
       "  <tbody>\n",
       "    <tr>\n",
       "      <th>0</th>\n",
       "      <td>10X_P4_0</td>\n",
       "      <td>Tongue</td>\n",
       "      <td>TONGUE</td>\n",
       "      <td>3</td>\n",
       "      <td>M</td>\n",
       "      <td>4</td>\n",
       "    </tr>\n",
       "    <tr>\n",
       "      <th>1</th>\n",
       "      <td>10X_P4_1</td>\n",
       "      <td>Tongue</td>\n",
       "      <td>TONGUE</td>\n",
       "      <td>3</td>\n",
       "      <td>M</td>\n",
       "      <td>4</td>\n",
       "    </tr>\n",
       "    <tr>\n",
       "      <th>2</th>\n",
       "      <td>10X_P4_2</td>\n",
       "      <td>Liver</td>\n",
       "      <td>HEPATOCYTES</td>\n",
       "      <td>3</td>\n",
       "      <td>M</td>\n",
       "      <td>4</td>\n",
       "    </tr>\n",
       "    <tr>\n",
       "      <th>3</th>\n",
       "      <td>10X_P4_3</td>\n",
       "      <td>Bladder</td>\n",
       "      <td>BLADDER</td>\n",
       "      <td>3</td>\n",
       "      <td>M</td>\n",
       "      <td>4</td>\n",
       "    </tr>\n",
       "    <tr>\n",
       "      <th>4</th>\n",
       "      <td>10X_P4_4</td>\n",
       "      <td>Bladder</td>\n",
       "      <td>BLADDER</td>\n",
       "      <td>3</td>\n",
       "      <td>M</td>\n",
       "      <td>4</td>\n",
       "    </tr>\n",
       "  </tbody>\n",
       "</table>\n",
       "</div>"
      ],
      "text/plain": [
       "    channel   tissue    subtissue  age sex  pool\n",
       "0  10X_P4_0   Tongue       TONGUE    3   M     4\n",
       "1  10X_P4_1   Tongue       TONGUE    3   M     4\n",
       "2  10X_P4_2    Liver  HEPATOCYTES    3   M     4\n",
       "3  10X_P4_3  Bladder      BLADDER    3   M     4\n",
       "4  10X_P4_4  Bladder      BLADDER    3   M     4"
      ]
     },
     "execution_count": 2,
     "metadata": {},
     "output_type": "execute_result"
    }
   ],
   "source": [
    "path = '/data/maca/data/10x/'\n",
    "maca10x3metadata = pd.read_csv('/data/maca/data/10x/MACA_10x_3_qc.csv',usecols = ['channel','tissue','tissue.notes','mouse.age','mouse.sex','pool'])\n",
    "maca10x3metadata2 = pd.read_csv('/data/maca/data/10x/TM_droplet_metadata.csv', low_memory=False)\n",
    "\n",
    "maca10x3metadata = maca10x3metadata.rename(columns = {'mouse.age':'age','mouse.sex':'sex','tissue.notes':'subtissue'})\n",
    "#maca10x3metadata = maca10x3metadata[maca10x3metadata.age == 3]\n",
    "maca10x3metadata.index = range(len(maca10x3metadata))\n",
    "\n",
    "maca10x3metadata.head()"
   ]
  },
  {
   "cell_type": "code",
   "execution_count": null,
   "metadata": {},
   "outputs": [],
   "source": [
    "adata3aux = []\n",
    "for i in range(0,len(maca10x3metadata)):\n",
    "    #print(i)\n",
    "    path = '/data/maca/data/10x/' + maca10x3metadata.channel[i] + '/'\n",
    "    foo = sc.read(path + 'matrix.mtx', cache=True).transpose()\n",
    "    foo.var_names = np.genfromtxt(path + 'genes.tsv', dtype=str)[:, 1]\n",
    "    foo.obs_names = np.genfromtxt(path + 'barcodes.tsv', dtype=str)\n",
    "    foo.obs['tissue'] = maca10x3metadata.tissue[i]\n",
    "    foo.obs['subtissue'] = maca10x3metadata.subtissue[i]\n",
    "    foo.obs['age'] = str(maca10x3metadata.age[i]) + 'm'\n",
    "    \n",
    "    if maca10x3metadata.sex[i] == 'M':\n",
    "        foo.obs['sex'] = 'male'\n",
    "    else:\n",
    "        foo.obs['sex'] = 'female'\n",
    "    \n",
    "    if maca10x3metadata.tissue[i] == 'Muscle':\n",
    "        foo.obs['tissue'] = 'Limb_Muscle'\n",
    "        \n",
    "    sc.pp.filter_cells(foo, min_genes=250)\n",
    "    \n",
    "    foo.obs['channel'] = maca10x3metadata.channel[i]# + foo.obs_names.split(\"-\")[0]\n",
    "    \n",
    "    foo.obs['cell_ontology_class'] = 'NA' #maca10x3metadata.cell_ontology_class[i]\n",
    "    #foo.obs['CellTypeID'] = maca10x3metadata.cell_ontology_id[i]\n",
    "    #foo.obs['FreeAnn'] = maca10x3metadata.free_annotation[i]\n",
    "    \n",
    "    adata3aux.append(foo)\n",
    "    #print(adata3.X.size*8/1000000) # convert to Mb\n",
    "\n",
    "first = adata3aux.pop()\n",
    "adata3 = first.concatenate(adata3aux)\n",
    "adata3.obs['cell'] = adata3.obs['channel'] + '_' + adata3.obs_names\n",
    "adata3.obs['cell'] = adata3.obs['cell'].apply(lambda x: pd.Series(x.split('-')))[0]\n",
    "adata3.obs['method'] = 'droplet'\n",
    "display(adata3.obs.head())\n",
    "adata3"
   ]
  },
  {
   "cell_type": "code",
   "execution_count": null,
   "metadata": {
    "scrolled": false
   },
   "outputs": [],
   "source": [
    "set(adata3.obs['tissue'])"
   ]
  },
  {
   "cell_type": "markdown",
   "metadata": {},
   "source": [
    "## concatenate all time points"
   ]
  },
  {
   "cell_type": "code",
   "execution_count": null,
   "metadata": {},
   "outputs": [],
   "source": [
    "adata = adata182124.concatenate([adata3])\n",
    "adata"
   ]
  },
  {
   "cell_type": "markdown",
   "metadata": {},
   "source": [
    "## import tabula-muris facs data"
   ]
  },
  {
   "cell_type": "code",
   "execution_count": null,
   "metadata": {},
   "outputs": [],
   "source": [
    "tm_facs_metadata = pd.read_csv('/data/maca/data/facs3mo/TM_facs_metadata.csv',usecols = ['cell','tissue','subtissue','mouse.sex','method','cell_ontology_class','cell_ontology_id','free_annotation'])\n",
    "tm_facs_metadata = tm_facs_metadata.rename(columns = {'mouse.sex':'sex'})\n",
    "display(tm_facs_metadata.head())\n",
    "tm_facs_metadata = tm_facs_metadata.set_index('cell')\n",
    "tm_facs_metadata.tail()"
   ]
  },
  {
   "cell_type": "code",
   "execution_count": null,
   "metadata": {},
   "outputs": [],
   "source": [
    "tm_facs_data = read_h5ad('/data/maca/data/facs3mo/TM_facs_mat.h5ad')\n",
    "tm_facs_data"
   ]
  },
  {
   "cell_type": "code",
   "execution_count": null,
   "metadata": {},
   "outputs": [],
   "source": [
    "tm_facs_data.obs.tail()"
   ]
  },
  {
   "cell_type": "code",
   "execution_count": null,
   "metadata": {
    "scrolled": true
   },
   "outputs": [],
   "source": [
    "merged_inner = pd.merge(left=tm_facs_data.obs,right=tm_facs_metadata, left_index=True, right_on='cell',how = 'inner')\n",
    "merged_inner"
   ]
  },
  {
   "cell_type": "code",
   "execution_count": null,
   "metadata": {},
   "outputs": [],
   "source": [
    "tm_facs_data.obs = merged_inner\n",
    "tm_facs_data.obs['age'] = '3m'\n",
    "for i in range(0,len(tm_facs_data.obs)):\n",
    "    if tm_facs_data.obs['sex'][i] == 'M':\n",
    "        tm_facs_data.obs['sex'][i] = 'male'\n",
    "    else:\n",
    "        tm_facs_data.obs['sex'][i] = 'female'\n",
    "    if tm_facs_data.obs['tissue'][i] == 'Mammary_Gland':\n",
    "        tm_facs_data.obs['tissue'][i] = 'Mammary'\n",
    "\n",
    "tm_facs_data.obs.head()"
   ]
  },
  {
   "cell_type": "code",
   "execution_count": null,
   "metadata": {},
   "outputs": [],
   "source": [
    "tm_facs_data"
   ]
  },
  {
   "cell_type": "code",
   "execution_count": null,
   "metadata": {},
   "outputs": [],
   "source": [
    "# adata = adata.concatenate(tm_facs_data)\n",
    "adata = tm_facs_data\n",
    "adata"
   ]
  },
  {
   "cell_type": "code",
   "execution_count": null,
   "metadata": {},
   "outputs": [],
   "source": [
    "adata.write('./write/maca-facs-3mo.h5ad')"
   ]
  },
  {
   "cell_type": "code",
   "execution_count": null,
   "metadata": {},
   "outputs": [],
   "source": [
    "import gc\n",
    "gc.collect()"
   ]
  },
  {
   "cell_type": "markdown",
   "metadata": {},
   "source": [
    "# Import all data"
   ]
  },
  {
   "cell_type": "code",
   "execution_count": null,
   "metadata": {},
   "outputs": [],
   "source": [
    "adata = read_h5ad('./write/maca-facs-3mo.h5ad')\n",
    "type(adata.X)\n"
   ]
  },
  {
   "cell_type": "code",
   "execution_count": null,
   "metadata": {},
   "outputs": [],
   "source": [
    "adata.shape"
   ]
  },
  {
   "cell_type": "code",
   "execution_count": null,
   "metadata": {},
   "outputs": [],
   "source": [
    "adata"
   ]
  },
  {
   "cell_type": "code",
   "execution_count": null,
   "metadata": {},
   "outputs": [],
   "source": [
    "adata.obs.head()"
   ]
  },
  {
   "cell_type": "markdown",
   "metadata": {},
   "source": [
    "# Preprocessing"
   ]
  },
  {
   "cell_type": "code",
   "execution_count": null,
   "metadata": {},
   "outputs": [],
   "source": [
    "sc.pp.filter_genes(adata, min_cells=5)\n",
    "sc.pp.filter_cells(adata, min_genes=250)\n",
    "adata"
   ]
  },
  {
   "cell_type": "code",
   "execution_count": null,
   "metadata": {},
   "outputs": [],
   "source": [
    "ercc_genes = [name for name in adata.var_names if name.startswith('ERCC-')]\n",
    "# for each cell compute fraction of counts in ercc genes vs. all genes\n",
    "# the \".A1\" is only necessary, as X is sparse - it transform to a dense array after summing\n",
    "adata.obs['percent_ercc'] = np.sum(\n",
    "    adata[:, ercc_genes].X, axis=1).A1 / np.sum(adata.X, axis=1).A1"
   ]
  },
  {
   "cell_type": "code",
   "execution_count": null,
   "metadata": {},
   "outputs": [],
   "source": [
    "adata = adata[:,~adata.var_names.isin(ercc_genes)]"
   ]
  },
  {
   "cell_type": "code",
   "execution_count": null,
   "metadata": {},
   "outputs": [],
   "source": [
    "# add the total counts per cell as observations-annotation to adata\n",
    "adata.obs['n_counts'] = np.sum(adata.X, axis=1).A1\n",
    "adata"
   ]
  },
  {
   "cell_type": "code",
   "execution_count": null,
   "metadata": {},
   "outputs": [],
   "source": [
    "axs = sc.pl.violin(adata, ['n_genes', 'n_counts'],\n",
    "                   jitter=0.4, multi_panel=True)"
   ]
  },
  {
   "cell_type": "code",
   "execution_count": null,
   "metadata": {},
   "outputs": [],
   "source": [
    "ax = sc.pl.scatter(adata, x='n_counts', y='n_genes')"
   ]
  },
  {
   "cell_type": "code",
   "execution_count": null,
   "metadata": {},
   "outputs": [],
   "source": [
    "sc.pp.normalize_per_cell(adata, counts_per_cell_after=1e4) #simple lib size normalization?\n",
    "adata.raw = adata"
   ]
  },
  {
   "cell_type": "code",
   "execution_count": null,
   "metadata": {},
   "outputs": [],
   "source": [
    "filter_result = sc.pp.filter_genes_dispersion(\n",
    "    adata.X, min_mean=0.0125, max_mean=10, min_disp=0.5)\n",
    "sc.pl.filter_genes_dispersion(filter_result)"
   ]
  },
  {
   "cell_type": "code",
   "execution_count": null,
   "metadata": {},
   "outputs": [],
   "source": [
    "adata = adata[:, filter_result.gene_subset]\n",
    "adata.shape"
   ]
  },
  {
   "cell_type": "code",
   "execution_count": null,
   "metadata": {},
   "outputs": [],
   "source": [
    "sc.pp.log1p(adata)"
   ]
  },
  {
   "cell_type": "code",
   "execution_count": null,
   "metadata": {},
   "outputs": [],
   "source": [
    "sc.pp.scale(adata, max_value=10, zero_center=False)"
   ]
  },
  {
   "cell_type": "markdown",
   "metadata": {},
   "source": [
    "# Exploration\n",
    "## PCA"
   ]
  },
  {
   "cell_type": "code",
   "execution_count": null,
   "metadata": {},
   "outputs": [],
   "source": [
    "sc.tl.pca(adata)"
   ]
  },
  {
   "cell_type": "code",
   "execution_count": null,
   "metadata": {},
   "outputs": [],
   "source": [
    "ax = sc.pl.pca_scatter(adata, color=['tissue'], right_margin=0.5)#, save='_all_ages_droplet_facs_tissue.pdf')"
   ]
  },
  {
   "cell_type": "code",
   "execution_count": null,
   "metadata": {},
   "outputs": [],
   "source": [
    "ax = sc.pl.pca_scatter(adata, color=['age'], right_margin=0.5)#, save='_all_ages_droplet_facs_age.pdf')"
   ]
  },
  {
   "cell_type": "code",
   "execution_count": null,
   "metadata": {},
   "outputs": [],
   "source": [
    "ax = sc.pl.pca_scatter(adata, color=['sex'], right_margin=0.5)#, save='_all_ages_droplet_facs_sex.pdf')"
   ]
  },
  {
   "cell_type": "code",
   "execution_count": null,
   "metadata": {},
   "outputs": [],
   "source": [
    "ax = sc.pl.pca_scatter(adata, color='n_counts', right_margin=0.5)#, save='_all_ages_droplet_facs_counts.pdf')"
   ]
  },
  {
   "cell_type": "code",
   "execution_count": null,
   "metadata": {},
   "outputs": [],
   "source": [
    "ax = sc.pl.pca_scatter(adata, color='method', right_margin=0.5)#, save='_all_ages_droplet_facs_method.pdf')"
   ]
  },
  {
   "cell_type": "code",
   "execution_count": null,
   "metadata": {},
   "outputs": [],
   "source": [
    "sc.pl.pca_variance_ratio(adata, log=True)"
   ]
  },
  {
   "cell_type": "markdown",
   "metadata": {},
   "source": [
    "## Louvain clustering"
   ]
  },
  {
   "cell_type": "code",
   "execution_count": null,
   "metadata": {},
   "outputs": [],
   "source": [
    "sc.pp.neighbors(adata, n_neighbors=15)#, method='gauss')\n",
    "sc.tl.louvain(adata, resolution = 0.3)"
   ]
  },
  {
   "cell_type": "code",
   "execution_count": null,
   "metadata": {},
   "outputs": [],
   "source": [
    "adata"
   ]
  },
  {
   "cell_type": "markdown",
   "metadata": {},
   "source": [
    "## UMAP"
   ]
  },
  {
   "cell_type": "code",
   "execution_count": null,
   "metadata": {},
   "outputs": [],
   "source": [
    "sc.tl.umap(adata)"
   ]
  },
  {
   "cell_type": "code",
   "execution_count": null,
   "metadata": {},
   "outputs": [],
   "source": [
    "sc.settings.set_figure_params(dpi=200)\n",
    "sc.pl.umap(adata, color=['tissue'], right_margin=0.5, save='_3mo_droplet_facs_tissue.pdf')"
   ]
  },
  {
   "cell_type": "code",
   "execution_count": null,
   "metadata": {},
   "outputs": [],
   "source": [
    "sc.settings.set_figure_params(dpi=200)\n",
    "sc.pl.umap(adata, color=['age'], right_margin=0.5, save='_3mo_droplet_facs_age.pdf')"
   ]
  },
  {
   "cell_type": "code",
   "execution_count": null,
   "metadata": {},
   "outputs": [],
   "source": [
    "sc.settings.set_figure_params(dpi=200)\n",
    "sc.pl.umap(adata, color=['sex'], right_margin=0.5, save='_3mo_droplet_facs_sex.pdf')"
   ]
  },
  {
   "cell_type": "code",
   "execution_count": null,
   "metadata": {},
   "outputs": [],
   "source": [
    "sc.settings.set_figure_params(dpi=200)\n",
    "sc.pl.umap(adata, color=['louvain'], right_margin=0.5, save='_3mo_droplet_facs_louvain.pdf')"
   ]
  },
  {
   "cell_type": "code",
   "execution_count": null,
   "metadata": {},
   "outputs": [],
   "source": [
    "sc.settings.set_figure_params(dpi=200)\n",
    "sc.pl.umap(adata, color=['method'], right_margin=0.5, save='_3mo_droplet_facs_method.pdf')"
   ]
  },
  {
   "cell_type": "markdown",
   "metadata": {},
   "source": [
    "## tSNE"
   ]
  },
  {
   "cell_type": "code",
   "execution_count": null,
   "metadata": {},
   "outputs": [],
   "source": [
    "sc.tl.tsne(adata, perplexity=50)"
   ]
  },
  {
   "cell_type": "code",
   "execution_count": null,
   "metadata": {},
   "outputs": [],
   "source": [
    "sc.settings.set_figure_params(dpi=200)\n",
    "sc.pl.tsne(adata, color=['tissue'], right_margin=0.5, save='_3mo_droplet_facs_tissue.pdf')"
   ]
  },
  {
   "cell_type": "code",
   "execution_count": null,
   "metadata": {},
   "outputs": [],
   "source": [
    "sc.pl.tsne(adata, color=['age'], right_margin=0.5, save='_3mo_droplet_facs_age.pdf')"
   ]
  },
  {
   "cell_type": "code",
   "execution_count": null,
   "metadata": {},
   "outputs": [],
   "source": [
    "sc.pl.tsne(adata, color=['sex'], right_margin=0.5, save='_3mo_droplet_facs_sex.pdf')"
   ]
  },
  {
   "cell_type": "code",
   "execution_count": null,
   "metadata": {},
   "outputs": [],
   "source": [
    "sc.pl.tsne(adata, color=['method'], right_margin=0.5, save='_3mo_droplet_facs_method.pdf')"
   ]
  },
  {
   "cell_type": "code",
   "execution_count": null,
   "metadata": {},
   "outputs": [],
   "source": [
    "sc.pl.tsne(adata, color=['louvain'], right_margin=0.5, save='_3mo_droplet_facs_louvain.pdf')"
   ]
  },
  {
   "cell_type": "markdown",
   "metadata": {},
   "source": [
    "# Save processed data"
   ]
  },
  {
   "cell_type": "code",
   "execution_count": null,
   "metadata": {},
   "outputs": [],
   "source": [
    "adata.write('./write/maca-facs-3mo.processed.h5ad')"
   ]
  },
  {
   "cell_type": "code",
   "execution_count": null,
   "metadata": {},
   "outputs": [],
   "source": []
  }
 ],
 "metadata": {
  "kernelspec": {
   "display_name": "Python 3",
   "language": "python",
   "name": "python3"
  },
  "language_info": {
   "codemirror_mode": {
    "name": "ipython",
    "version": 3
   },
   "file_extension": ".py",
   "mimetype": "text/x-python",
   "name": "python",
   "nbconvert_exporter": "python",
   "pygments_lexer": "ipython3",
   "version": "3.6.5"
  }
 },
 "nbformat": 4,
 "nbformat_minor": 2
}
